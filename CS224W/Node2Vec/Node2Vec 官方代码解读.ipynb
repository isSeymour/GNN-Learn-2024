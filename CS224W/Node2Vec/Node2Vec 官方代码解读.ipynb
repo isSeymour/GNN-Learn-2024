{
 "cells": [
  {
   "cell_type": "markdown",
   "id": "7264eb05",
   "metadata": {},
   "source": [
    "# Node2Vec 官方代码解读\n",
    "\n",
    "> 参考资料\n",
    "> \n",
    "> Node2Vec 官方作者 Aditya Grover 代码：https://github.com/aditya-grover/node2vec\n"
   ]
  },
  {
   "cell_type": "markdown",
   "id": "335d124a",
   "metadata": {},
   "source": [
    "## 1. 环境准备"
   ]
  },
  {
   "cell_type": "markdown",
   "id": "e54459a5",
   "metadata": {},
   "source": [
    "### 工具包"
   ]
  },
  {
   "cell_type": "code",
   "execution_count": 1,
   "id": "e4e1f9aa",
   "metadata": {
    "ExecuteTime": {
     "end_time": "2024-10-09T11:39:41.456654Z",
     "start_time": "2024-10-09T11:39:41.154533Z"
    }
   },
   "outputs": [],
   "source": [
    "import warnings\n",
    "warnings.filterwarnings('ignore')\n",
    "\n",
    "import argparse\n",
    "import numpy as np\n",
    "import networkx as nx \n",
    "from gensim.models import Word2Vec\n",
    "import random\n",
    "\n",
    "import matplotlib.pyplot as plt \n",
    "%matplotlib inline"
   ]
  },
  {
   "cell_type": "markdown",
   "id": "6152168a",
   "metadata": {},
   "source": [
    "### 读入命令行参数"
   ]
  },
  {
   "cell_type": "code",
   "execution_count": 5,
   "id": "c0306a5e",
   "metadata": {
    "ExecuteTime": {
     "end_time": "2024-10-09T11:49:00.861666Z",
     "start_time": "2024-10-09T11:49:00.851879Z"
    }
   },
   "outputs": [],
   "source": [
    "def parse_args():\n",
    "    '''\n",
    "    Parses the node2vec arguments.\n",
    "    '''\n",
    "    # 使用 parser 加载信息\n",
    "    parser = argparse.ArgumentParser(description=\"Run node2vec.\")\n",
    "    # 输入文件：邻接表\n",
    "    parser.add_argument('--input', nargs='?', default='graph/karate.edgelist',\n",
    "                        help='Input graph path')\n",
    "    # 输出文件：节点嵌入表\n",
    "    parser.add_argument('--output', nargs='?', default='emb/karate.emb',\n",
    "                        help='Embeddings path')\n",
    "    # embedding 嵌入向量维度\n",
    "    parser.add_argument('--dimensions', type=int, default=128,\n",
    "                        help='Number of dimensions. Default is 128.')\n",
    "    # 随机游走序列长度\n",
    "    parser.add_argument('--walk-length', type=int, default=80,\n",
    "                        help='Length of walk per source. Default is 80.')\n",
    "    # 每个节点作为起始的次数\n",
    "    parser.add_argument('--num-walks', type=int, default=10,\n",
    "                        help='Number of walks per source. Default is 10.')\n",
    "    # word2vec 窗口大小\n",
    "    parser.add_argument('--window-size', type=int, default=10,\n",
    "                        help='Context size for optimization. Default is 10.')\n",
    "    # SGD 优化时 epochs数\n",
    "    parser.add_argument('--iter', default=1, type=int,\n",
    "                      help='Number of epochs in SGD')\n",
    "    # 并发线程数\n",
    "    parser.add_argument('--workers', type=int, default=8,\n",
    "                        help='Number of parallel workers. Default is 8.')\n",
    "    # 回归参数 p\n",
    "    parser.add_argument('--p', type=float, default=1,\n",
    "                        help='Return hyperparameter. Default is 1.')\n",
    "    # 出入参数 q\n",
    "    parser.add_argument('--q', type=float, default=1,\n",
    "                        help='Inout hyperparameter. Default is 1.')\n",
    "    # 连接是否带权重\n",
    "    parser.add_argument('--weighted', dest='weighted', action='store_true',\n",
    "                        help='Boolean specifying (un)weighted. Default is unweighted.')\n",
    "    parser.add_argument('--unweighted', dest='unweighted', action='store_false')\n",
    "    parser.set_defaults(weighted=False)\n",
    "    # 有向图 / 无向图\n",
    "    parser.add_argument('--directed', dest='directed', action='store_true',\n",
    "                        help='Graph is (un)directed. Default is undirected.')\n",
    "    parser.add_argument('--undirected', dest='undirected', action='store_false')\n",
    "    parser.set_defaults(directed=False)\n",
    "    \n",
    "    return parser.parse_args(args=[])\n",
    "\n",
    "args = parse_args()"
   ]
  },
  {
   "cell_type": "code",
   "execution_count": 6,
   "id": "908e0f52",
   "metadata": {
    "ExecuteTime": {
     "end_time": "2024-10-09T11:49:13.795638Z",
     "start_time": "2024-10-09T11:49:13.790043Z"
    }
   },
   "outputs": [
    {
     "data": {
      "text/plain": [
       "Namespace(input='graph/karate.edgelist', output='emb/karate.emb', dimensions=128, walk_length=80, num_walks=10, window_size=10, iter=1, workers=8, p=1, q=1, weighted=False, unweighted=True, directed=False, undirected=True)"
      ]
     },
     "execution_count": 6,
     "metadata": {},
     "output_type": "execute_result"
    }
   ],
   "source": [
    "args"
   ]
  },
  {
   "cell_type": "markdown",
   "id": "95675363",
   "metadata": {},
   "source": [
    "## 2. 载入图"
   ]
  },
  {
   "cell_type": "markdown",
   "id": "f772d1a7",
   "metadata": {},
   "source": [
    "### 初始化"
   ]
  },
  {
   "cell_type": "code",
   "execution_count": 8,
   "id": "cf01a39e",
   "metadata": {
    "ExecuteTime": {
     "end_time": "2024-10-09T11:56:47.232282Z",
     "start_time": "2024-10-09T11:56:47.222867Z"
    }
   },
   "outputs": [],
   "source": [
    "# 连接是否带权重\n",
    "if args.weighted:\n",
    "    G = nx.read_edgelist(args.input, nodetype=int, data=(('weight', float),), create_using=nx.DiGraph())\n",
    "else:\n",
    "    G = nx.read_edgelist(args.input, nodetype=int, create_using=nx.DiGraph())\n",
    "    for edge in G.edges():\n",
    "        G[edge[0]][edge[1]]['weight'] = np.abs(np.random.randn())\n",
    "\n",
    "# 无向图\n",
    "if args.undirected:\n",
    "    G = G.to_undirected()"
   ]
  },
  {
   "cell_type": "code",
   "execution_count": 9,
   "id": "df8aee94",
   "metadata": {
    "ExecuteTime": {
     "end_time": "2024-10-09T11:56:52.081131Z",
     "start_time": "2024-10-09T11:56:52.075164Z"
    }
   },
   "outputs": [
    {
     "data": {
      "text/plain": [
       "34"
      ]
     },
     "execution_count": 9,
     "metadata": {},
     "output_type": "execute_result"
    }
   ],
   "source": [
    "len(G)"
   ]
  },
  {
   "cell_type": "code",
   "execution_count": 10,
   "id": "20a96589",
   "metadata": {
    "ExecuteTime": {
     "end_time": "2024-10-09T11:57:03.065489Z",
     "start_time": "2024-10-09T11:57:03.059651Z"
    }
   },
   "outputs": [
    {
     "data": {
      "text/plain": [
       "NodeView((1, 32, 22, 20, 18, 14, 13, 12, 11, 9, 8, 7, 6, 5, 4, 3, 2, 31, 10, 33, 29, 28, 17, 34, 15, 16, 19, 21, 23, 24, 30, 26, 25, 27))"
      ]
     },
     "execution_count": 10,
     "metadata": {},
     "output_type": "execute_result"
    }
   ],
   "source": [
    "G.nodes"
   ]
  },
  {
   "cell_type": "code",
   "execution_count": 11,
   "id": "e6529c83",
   "metadata": {
    "ExecuteTime": {
     "end_time": "2024-10-09T11:57:14.035515Z",
     "start_time": "2024-10-09T11:57:14.028612Z"
    }
   },
   "outputs": [
    {
     "data": {
      "text/plain": [
       "EdgeView([(1, 32), (1, 22), (1, 20), (1, 18), (1, 14), (1, 13), (1, 12), (1, 11), (1, 9), (1, 8), (1, 7), (1, 6), (1, 5), (1, 4), (1, 3), (1, 2), (32, 34), (32, 33), (32, 29), (32, 26), (32, 25), (22, 2), (20, 34), (20, 2), (18, 2), (14, 34), (14, 4), (14, 3), (14, 2), (13, 4), (11, 6), (11, 5), (9, 34), (9, 33), (9, 3), (8, 4), (8, 3), (8, 2), (7, 17), (7, 6), (7, 5), (6, 17), (4, 3), (4, 2), (3, 10), (3, 33), (3, 29), (3, 28), (3, 2), (2, 31), (31, 34), (31, 33), (10, 34), (33, 34), (33, 15), (33, 16), (33, 19), (33, 21), (33, 23), (33, 24), (33, 30), (29, 34), (28, 34), (28, 24), (28, 25), (34, 15), (34, 16), (34, 19), (34, 21), (34, 23), (34, 24), (34, 30), (34, 27), (24, 30), (24, 26), (30, 27), (26, 25)])"
      ]
     },
     "execution_count": 11,
     "metadata": {},
     "output_type": "execute_result"
    }
   ],
   "source": [
    "G.edges"
   ]
  },
  {
   "cell_type": "markdown",
   "id": "86544b2d",
   "metadata": {},
   "source": [
    "### 可视化"
   ]
  },
  {
   "cell_type": "code",
   "execution_count": 12,
   "id": "3bd52257",
   "metadata": {
    "ExecuteTime": {
     "end_time": "2024-10-09T11:58:24.083782Z",
     "start_time": "2024-10-09T11:58:23.970836Z"
    }
   },
   "outputs": [
    {
     "data": {
      "image/png": "[encoded data removed]",
      "text/plain": [
       "<Figure size 640x480 with 1 Axes>"
      ]
     },
     "metadata": {},
     "output_type": "display_data"
    }
   ],
   "source": [
    "# 可视化\n",
    "pos = nx.spring_layout(G, seed=10)\n",
    "nx.draw(G, pos, with_labels=True)\n",
    "plt.show()"
   ]
  },
  {
   "cell_type": "markdown",
   "id": "1c9d990f",
   "metadata": {},
   "source": [
    "## 3. Alias Sampling"
   ]
  },
  {
   "cell_type": "markdown",
   "id": "83ffad7a",
   "metadata": {},
   "source": [
    "> 参考博客：\n",
    "> \n",
    "> https://keithschwarz.com/darts-dice-coins/\n",
    "> \n",
    "> https://www.bilibili.com/video/av798804262\n",
    ">\n",
    "> https://www.cnblogs.com/Lee-yl/p/12749070.html\n",
    ">\n",
    "> ![Algorithm](./Algorithm.png)"
   ]
  },
  {
   "cell_type": "code",
   "execution_count": 13,
   "id": "51bd1f34",
   "metadata": {
    "ExecuteTime": {
     "end_time": "2024-10-09T12:19:18.624505Z",
     "start_time": "2024-10-09T12:19:18.611156Z"
    }
   },
   "outputs": [],
   "source": [
    "def alias_setup(probs):\n",
    "    '''\n",
    "    Compute utility lists for non-uniform sampling from discrete distributions.\n",
    "    Refer to https://hips.seas.harvard.edu/blog/2013/03/03/the-alias-method-efficient-sampling-with-many-discrete-outcomes/\n",
    "    for details\n",
    "    '''\n",
    "    # 事件个数\n",
    "    K = len(probs)\n",
    "    # q 关联 probs\n",
    "    q = np.zeros(K)\n",
    "    # J 别名 Alias\n",
    "    J = np.zeros(K, dtype=np.int)\n",
    "    \n",
    "    # 两组\n",
    "    smaller = []\n",
    "    larger = []\n",
    "    \n",
    "    # 将各个概率分成两组，一组的概率值大于 1，另一组小于 1\n",
    "    for kk, prob in enumerate(probs):\n",
    "        q[kk] = K*prob\n",
    "        if q[kk] < 1.0:\n",
    "            smaller.append(kk)\n",
    "        else:\n",
    "            larger.append(kk)\n",
    "\n",
    "    # 贪心算法：概率小于 1 的不断填满\n",
    "    while len(smaller) > 0 and len(larger) > 0:\n",
    "        small = smaller.pop()\n",
    "        large = larger.pop()\n",
    "\n",
    "        J[small] = large\n",
    "        q[large] = q[large] + q[small] - 1.0\n",
    "        if q[large] < 1.0:\n",
    "            smaller.append(large)\n",
    "        else:\n",
    "            larger.append(large)\n",
    "\n",
    "    return J, q\n"
   ]
  },
  {
   "cell_type": "code",
   "execution_count": 14,
   "id": "29cf8c39",
   "metadata": {
    "ExecuteTime": {
     "end_time": "2024-10-09T12:20:51.158628Z",
     "start_time": "2024-10-09T12:20:51.153076Z"
    }
   },
   "outputs": [],
   "source": [
    "def alias_draw(J, q):\n",
    "    '''\n",
    "    Draw sample from a non-uniform discrete distribution using alias sampling.\n",
    "    '''\n",
    "    K = len(J)\n",
    "    \n",
    "    kk = int(np.floor(np.random.rand()*K))\n",
    "    if np.random.rand() < q[kk]:\n",
    "        return kk     # 取自己本来就对应的事件\n",
    "    else:\n",
    "        return J[kk]  # 取 Alias事件"
   ]
  },
  {
   "cell_type": "code",
   "execution_count": 22,
   "id": "91618731",
   "metadata": {
    "ExecuteTime": {
     "end_time": "2024-10-09T12:26:42.421323Z",
     "start_time": "2024-10-09T12:26:42.415273Z"
    }
   },
   "outputs": [],
   "source": [
    "def alias_setup(probs):\n",
    "    '''\n",
    "    Compute utility lists for non-uniform sampling from discrete distributions.\n",
    "    Refer to https://hips.seas.harvard.edu/blog/2013/03/03/the-alias-method-efficient-sampling-with-many-discrete-outcomes/\n",
    "    for details\n",
    "    '''\n",
    "    K = len(probs)\n",
    "    q = np.zeros(K)\n",
    "    J = np.zeros(K, dtype=np.int64)\n",
    "\n",
    "    smaller = []\n",
    "    larger = []\n",
    "    for kk, prob in enumerate(probs):\n",
    "        q[kk] = K*prob\n",
    "        if q[kk] < 1.0:\n",
    "            smaller.append(kk)\n",
    "        else:\n",
    "            larger.append(kk)\n",
    "\n",
    "    while len(smaller) > 0 and len(larger) > 0:\n",
    "        small = smaller.pop()\n",
    "        large = larger.pop()\n",
    "\n",
    "        J[small] = large\n",
    "        q[large] = q[large] + q[small] - 1.0\n",
    "        if q[large] < 1.0:\n",
    "            smaller.append(large)\n",
    "        else:\n",
    "            larger.append(large)\n",
    "\n",
    "    return J, q"
   ]
  },
  {
   "cell_type": "code",
   "execution_count": 23,
   "id": "67126424",
   "metadata": {
    "ExecuteTime": {
     "end_time": "2024-10-09T12:26:42.921022Z",
     "start_time": "2024-10-09T12:26:42.914683Z"
    }
   },
   "outputs": [],
   "source": [
    "def get_alias_edge(src, dst):\n",
    "    '''\n",
    "    Get the alias edge setup lists for a given edge.\n",
    "    '''\n",
    "    p = args.p\n",
    "    q = args.q\n",
    "    \n",
    "    unnormalized_probs = []\n",
    "    \n",
    "    # 论文 3.2.2 节核心算法，计算各条边的转移权重\n",
    "    for dst_nbr in sorted(G.neighbors(dst)):\n",
    "        if dst_nbr == src:\n",
    "            unnormalized_probs.append(G[dst][dst_nbr]['weight']/p)\n",
    "        elif G.has_edge(dst_nbr, src):\n",
    "            unnormalized_probs.append(G[dst][dst_nbr]['weight'])\n",
    "        else:\n",
    "            unnormalized_probs.append(G[dst][dst_nbr]['weight']/q)\n",
    "    \n",
    "    # 归一化各条边的转移权重\n",
    "    norm_const = sum(unnormalized_probs)\n",
    "    normalized_probs =  [float(u_prob)/norm_const for u_prob in unnormalized_probs]\n",
    "\n",
    "    # 执行 Alias Sampling\n",
    "    return alias_setup(normalized_probs)"
   ]
  },
  {
   "cell_type": "code",
   "execution_count": 24,
   "id": "2084035e",
   "metadata": {
    "ExecuteTime": {
     "end_time": "2024-10-09T12:26:43.283917Z",
     "start_time": "2024-10-09T12:26:43.271033Z"
    }
   },
   "outputs": [
    {
     "data": {
      "text/plain": [
       "(array([0, 0]), array([1.        , 0.99357163]))"
      ]
     },
     "execution_count": 24,
     "metadata": {},
     "output_type": "execute_result"
    }
   ],
   "source": [
    "get_alias_edge(15,16)"
   ]
  },
  {
   "cell_type": "code",
   "execution_count": 25,
   "id": "3d260911",
   "metadata": {
    "ExecuteTime": {
     "end_time": "2024-10-09T12:35:10.353315Z",
     "start_time": "2024-10-09T12:35:10.346468Z"
    }
   },
   "outputs": [
    {
     "name": "stdout",
     "output_type": "stream",
     "text": [
      "25号结点\n",
      "[0.6807489307264206, 1.7039250010430942, 0.18385477616710325]\n",
      "2.568528707936618\n",
      "[0.2650345813239083, 0.6633856167455151, 0.07157980193057671]\n",
      "(array([1, 0, 1]), array([0.79510374, 1.        , 0.21473941]))\n"
     ]
    }
   ],
   "source": [
    "is_directed = args.directed\n",
    "alias_nodes = {}\n",
    "\n",
    "# 节点概率 alias sampling 和归一化\n",
    "for node in G.nodes():\n",
    "    unnormalized_probs = [G[node][nbr]['weight'] for nbr in sorted(G.neighbors(node))]\n",
    "    norm_const = sum(unnormalized_probs)\n",
    "    normalized_probs = [float(u_prob)/norm_const for u_prob in unnormalized_probs]\n",
    "    alias_nodes[node] = alias_setup(normalized_probs)\n",
    "    # 信息展示\n",
    "    if node == 25:\n",
    "        print('25号结点')\n",
    "        print(unnormalized_probs)\n",
    "        print(norm_const)\n",
    "        print(normalized_probs)\n",
    "        print(alias_nodes[node])"
   ]
  },
  {
   "cell_type": "code",
   "execution_count": 26,
   "id": "4324ebe5",
   "metadata": {
    "ExecuteTime": {
     "end_time": "2024-10-09T12:39:40.367869Z",
     "start_time": "2024-10-09T12:39:40.359690Z"
    }
   },
   "outputs": [],
   "source": [
    "alias_edges = {}\n",
    "triads = {}\n",
    "\n",
    "# 边概率 alias sampling 和归一化\n",
    "if is_directed:\n",
    "    for edge in G.edges():\n",
    "        alias_edges[edge] = get_alias_edge(edge[0], edge[1])\n",
    "else:\n",
    "    for edge in G.edges():\n",
    "        alias_edges[edge] = get_alias_edge(edge[0], edge[1])\n",
    "        alias_edges[(edge[1], edge[0])] = get_alias_edge(edge[1], edge[0])\n"
   ]
  },
  {
   "cell_type": "code",
   "execution_count": 27,
   "id": "13c22b71",
   "metadata": {
    "ExecuteTime": {
     "end_time": "2024-10-09T12:40:39.331333Z",
     "start_time": "2024-10-09T12:40:39.320631Z"
    }
   },
   "outputs": [
    {
     "data": {
      "text/plain": [
       "{1: (array([ 0,  0,  5,  1, 11,  3, 11, 12,  5, 12, 14,  8, 11, 14, 12, 14]),\n",
       "  array([1.        , 0.6425057 , 0.29465205, 0.61082576, 0.1076844 ,\n",
       "         0.3594496 , 0.79612633, 0.70443602, 0.24465772, 0.34230705,\n",
       "         0.50457996, 0.11921612, 0.9465594 , 0.99729354, 0.79341524,\n",
       "         0.42907092])),\n",
       " 32: (array([2, 5, 0, 5, 5, 2]),\n",
       "  array([0.85558317, 0.3825026 , 1.        , 0.61865947, 0.37842106,\n",
       "         0.42721905])),\n",
       " 22: (array([0, 0]), array([1.        , 0.41316383])),\n",
       " 20: (array([0, 2, 0]), array([1.        , 0.29843255, 0.56513269])),\n",
       " 18: (array([0, 0]), array([1.       , 0.4508068])),\n",
       " 14: (array([0, 0, 4, 4, 1]),\n",
       "  array([1.        , 0.7715804 , 0.06370072, 0.66173259, 0.51671535])),\n",
       " 13: (array([1, 0]), array([0.90387139, 1.        ])),\n",
       " 12: (array([0]), array([1.])),\n",
       " 11: (array([0, 0, 0]), array([1.        , 0.62556891, 0.50557123])),\n",
       " 9: (array([1, 0, 3, 1]),\n",
       "  array([0.87874095, 1.        , 0.09857586, 0.81857191])),\n",
       " 8: (array([3, 0, 3, 1]),\n",
       "  array([0.93302007, 1.        , 0.62289777, 0.95619099])),\n",
       " 7: (array([0, 0, 1, 1]),\n",
       "  array([1.        , 0.27218395, 0.19498387, 0.84512675])),\n",
       " 6: (array([3, 3, 3, 0]),\n",
       "  array([0.28142581, 0.53680563, 0.79568231, 1.        ])),\n",
       " 5: (array([0, 0, 1]), array([1.        , 0.71697863, 0.38624903])),\n",
       " 4: (array([1, 0, 1, 2, 2, 3]),\n",
       "  array([0.27433866, 1.        , 0.67015371, 0.74884046, 0.56972125,\n",
       "         0.63638838])),\n",
       " 3: (array([0, 0, 0, 2, 2, 2, 7, 4, 7, 8]),\n",
       "  array([1.        , 0.77425354, 0.85899251, 0.70413045, 0.64992802,\n",
       "         0.58178293, 0.08716695, 0.26646941, 0.88970499, 0.33458999])),\n",
       " 2: (array([0, 0, 0, 2, 2, 2, 2, 8, 4]),\n",
       "  array([1.        , 0.61021741, 0.97240759, 0.92994828, 0.88080492,\n",
       "         0.63998927, 0.21657295, 0.50632157, 0.52746796])),\n",
       " 31: (array([1, 0, 1]), array([0.98815335, 1.        , 0.66601618])),\n",
       " 10: (array([1, 0]), array([0.96664876, 1.        ])),\n",
       " 33: (array([ 3,  5,  5,  0,  3,  4,  5,  5,  5,  5, 11,  9]),\n",
       "  array([0.32215294, 0.10079658, 0.7265275 , 1.        , 0.71799757,\n",
       "         0.61002131, 0.61150199, 0.74804694, 0.91466975, 0.99388093,\n",
       "         0.24206759, 0.29484809])),\n",
       " 29: (array([0, 2, 0]), array([1.        , 0.41038177, 0.44730304])),\n",
       " 28: (array([0, 2, 0, 2]),\n",
       "  array([1.        , 0.4684117 , 0.92943776, 0.50587685])),\n",
       " 17: (array([0, 0]), array([1.        , 0.98739872])),\n",
       " 34: (array([ 0,  2,  0,  2,  2,  2,  4,  4,  4,  4,  9,  9,  9,  9, 13, 13, 15]),\n",
       "  array([1.        , 0.50317695, 0.52213764, 0.42583939, 0.96823374,\n",
       "         0.64175385, 0.94364997, 0.62087325, 0.89267126, 0.88522707,\n",
       "         0.53956344, 0.49302343, 0.84023755, 0.99270424, 0.70652501,\n",
       "         0.98528567, 0.88464529])),\n",
       " 15: (array([0, 0]), array([1.        , 0.82181707])),\n",
       " 16: (array([0, 0]), array([1.        , 0.99357163])),\n",
       " 19: (array([0, 0]), array([1.        , 0.81607589])),\n",
       " 21: (array([0, 0]), array([1.       , 0.4542075])),\n",
       " 23: (array([1, 0]), array([0.73066032, 1.        ])),\n",
       " 24: (array([4, 4, 4, 4, 0]),\n",
       "  array([0.82420082, 0.61338458, 0.00408704, 0.84458344, 1.        ])),\n",
       " 30: (array([3, 3, 0, 2]),\n",
       "  array([0.00444285, 0.97283422, 1.        , 0.87738286])),\n",
       " 26: (array([2, 2, 0]), array([0.80089898, 0.99395384, 1.        ])),\n",
       " 25: (array([1, 0, 1]), array([0.79510374, 1.        , 0.21473941])),\n",
       " 27: (array([0, 0]), array([1.        , 0.89508987]))}"
      ]
     },
     "execution_count": 27,
     "metadata": {},
     "output_type": "execute_result"
    }
   ],
   "source": [
    "# 每个节点的 J 表和 q 表（不考虑p、q 值）\n",
    "alias_nodes"
   ]
  },
  {
   "cell_type": "code",
   "execution_count": 28,
   "id": "58923c94",
   "metadata": {
    "ExecuteTime": {
     "end_time": "2024-10-09T12:41:10.912441Z",
     "start_time": "2024-10-09T12:41:10.879989Z"
    }
   },
   "outputs": [
    {
     "data": {
      "text/plain": [
       "{(1, 32): (array([2, 5, 0, 5, 5, 2]),\n",
       "  array([0.85558317, 0.3825026 , 1.        , 0.61865947, 0.37842106,\n",
       "         0.42721905])),\n",
       " (32,\n",
       "  1): (array([ 0,  0,  5,  1, 11,  3, 11, 12,  5, 12, 14,  8, 11, 14, 12, 14]), array([1.        , 0.6425057 , 0.29465205, 0.61082576, 0.1076844 ,\n",
       "         0.3594496 , 0.79612633, 0.70443602, 0.24465772, 0.34230705,\n",
       "         0.50457996, 0.11921612, 0.9465594 , 0.99729354, 0.79341524,\n",
       "         0.42907092])),\n",
       " (1, 22): (array([0, 0]), array([1.        , 0.41316383])),\n",
       " (22,\n",
       "  1): (array([ 0,  0,  5,  1, 11,  3, 11, 12,  5, 12, 14,  8, 11, 14, 12, 14]), array([1.        , 0.6425057 , 0.29465205, 0.61082576, 0.1076844 ,\n",
       "         0.3594496 , 0.79612633, 0.70443602, 0.24465772, 0.34230705,\n",
       "         0.50457996, 0.11921612, 0.9465594 , 0.99729354, 0.79341524,\n",
       "         0.42907092])),\n",
       " (1, 20): (array([0, 2, 0]), array([1.        , 0.29843255, 0.56513269])),\n",
       " (20,\n",
       "  1): (array([ 0,  0,  5,  1, 11,  3, 11, 12,  5, 12, 14,  8, 11, 14, 12, 14]), array([1.        , 0.6425057 , 0.29465205, 0.61082576, 0.1076844 ,\n",
       "         0.3594496 , 0.79612633, 0.70443602, 0.24465772, 0.34230705,\n",
       "         0.50457996, 0.11921612, 0.9465594 , 0.99729354, 0.79341524,\n",
       "         0.42907092])),\n",
       " (1, 18): (array([0, 0]), array([1.       , 0.4508068])),\n",
       " (18,\n",
       "  1): (array([ 0,  0,  5,  1, 11,  3, 11, 12,  5, 12, 14,  8, 11, 14, 12, 14]), array([1.        , 0.6425057 , 0.29465205, 0.61082576, 0.1076844 ,\n",
       "         0.3594496 , 0.79612633, 0.70443602, 0.24465772, 0.34230705,\n",
       "         0.50457996, 0.11921612, 0.9465594 , 0.99729354, 0.79341524,\n",
       "         0.42907092])),\n",
       " (1, 14): (array([0, 0, 4, 4, 1]),\n",
       "  array([1.        , 0.7715804 , 0.06370072, 0.66173259, 0.51671535])),\n",
       " (14,\n",
       "  1): (array([ 0,  0,  5,  1, 11,  3, 11, 12,  5, 12, 14,  8, 11, 14, 12, 14]), array([1.        , 0.6425057 , 0.29465205, 0.61082576, 0.1076844 ,\n",
       "         0.3594496 , 0.79612633, 0.70443602, 0.24465772, 0.34230705,\n",
       "         0.50457996, 0.11921612, 0.9465594 , 0.99729354, 0.79341524,\n",
       "         0.42907092])),\n",
       " (1, 13): (array([1, 0]), array([0.90387139, 1.        ])),\n",
       " (13,\n",
       "  1): (array([ 0,  0,  5,  1, 11,  3, 11, 12,  5, 12, 14,  8, 11, 14, 12, 14]), array([1.        , 0.6425057 , 0.29465205, 0.61082576, 0.1076844 ,\n",
       "         0.3594496 , 0.79612633, 0.70443602, 0.24465772, 0.34230705,\n",
       "         0.50457996, 0.11921612, 0.9465594 , 0.99729354, 0.79341524,\n",
       "         0.42907092])),\n",
       " (1, 12): (array([0]), array([1.])),\n",
       " (12,\n",
       "  1): (array([ 0,  0,  5,  1, 11,  3, 11, 12,  5, 12, 14,  8, 11, 14, 12, 14]), array([1.        , 0.6425057 , 0.29465205, 0.61082576, 0.1076844 ,\n",
       "         0.3594496 , 0.79612633, 0.70443602, 0.24465772, 0.34230705,\n",
       "         0.50457996, 0.11921612, 0.9465594 , 0.99729354, 0.79341524,\n",
       "         0.42907092])),\n",
       " (1, 11): (array([0, 0, 0]), array([1.        , 0.62556891, 0.50557123])),\n",
       " (11,\n",
       "  1): (array([ 0,  0,  5,  1, 11,  3, 11, 12,  5, 12, 14,  8, 11, 14, 12, 14]), array([1.        , 0.6425057 , 0.29465205, 0.61082576, 0.1076844 ,\n",
       "         0.3594496 , 0.79612633, 0.70443602, 0.24465772, 0.34230705,\n",
       "         0.50457996, 0.11921612, 0.9465594 , 0.99729354, 0.79341524,\n",
       "         0.42907092])),\n",
       " (1, 9): (array([1, 0, 3, 1]),\n",
       "  array([0.87874095, 1.        , 0.09857586, 0.81857191])),\n",
       " (9,\n",
       "  1): (array([ 0,  0,  5,  1, 11,  3, 11, 12,  5, 12, 14,  8, 11, 14, 12, 14]), array([1.        , 0.6425057 , 0.29465205, 0.61082576, 0.1076844 ,\n",
       "         0.3594496 , 0.79612633, 0.70443602, 0.24465772, 0.34230705,\n",
       "         0.50457996, 0.11921612, 0.9465594 , 0.99729354, 0.79341524,\n",
       "         0.42907092])),\n",
       " (1, 8): (array([3, 0, 3, 1]),\n",
       "  array([0.93302007, 1.        , 0.62289777, 0.95619099])),\n",
       " (8,\n",
       "  1): (array([ 0,  0,  5,  1, 11,  3, 11, 12,  5, 12, 14,  8, 11, 14, 12, 14]), array([1.        , 0.6425057 , 0.29465205, 0.61082576, 0.1076844 ,\n",
       "         0.3594496 , 0.79612633, 0.70443602, 0.24465772, 0.34230705,\n",
       "         0.50457996, 0.11921612, 0.9465594 , 0.99729354, 0.79341524,\n",
       "         0.42907092])),\n",
       " (1, 7): (array([0, 0, 1, 1]),\n",
       "  array([1.        , 0.27218395, 0.19498387, 0.84512675])),\n",
       " (7,\n",
       "  1): (array([ 0,  0,  5,  1, 11,  3, 11, 12,  5, 12, 14,  8, 11, 14, 12, 14]), array([1.        , 0.6425057 , 0.29465205, 0.61082576, 0.1076844 ,\n",
       "         0.3594496 , 0.79612633, 0.70443602, 0.24465772, 0.34230705,\n",
       "         0.50457996, 0.11921612, 0.9465594 , 0.99729354, 0.79341524,\n",
       "         0.42907092])),\n",
       " (1, 6): (array([3, 3, 3, 0]),\n",
       "  array([0.28142581, 0.53680563, 0.79568231, 1.        ])),\n",
       " (6,\n",
       "  1): (array([ 0,  0,  5,  1, 11,  3, 11, 12,  5, 12, 14,  8, 11, 14, 12, 14]), array([1.        , 0.6425057 , 0.29465205, 0.61082576, 0.1076844 ,\n",
       "         0.3594496 , 0.79612633, 0.70443602, 0.24465772, 0.34230705,\n",
       "         0.50457996, 0.11921612, 0.9465594 , 0.99729354, 0.79341524,\n",
       "         0.42907092])),\n",
       " (1, 5): (array([0, 0, 1]), array([1.        , 0.71697863, 0.38624903])),\n",
       " (5,\n",
       "  1): (array([ 0,  0,  5,  1, 11,  3, 11, 12,  5, 12, 14,  8, 11, 14, 12, 14]), array([1.        , 0.6425057 , 0.29465205, 0.61082576, 0.1076844 ,\n",
       "         0.3594496 , 0.79612633, 0.70443602, 0.24465772, 0.34230705,\n",
       "         0.50457996, 0.11921612, 0.9465594 , 0.99729354, 0.79341524,\n",
       "         0.42907092])),\n",
       " (1, 4): (array([1, 0, 1, 2, 2, 3]),\n",
       "  array([0.27433866, 1.        , 0.67015371, 0.74884046, 0.56972125,\n",
       "         0.63638838])),\n",
       " (4,\n",
       "  1): (array([ 0,  0,  5,  1, 11,  3, 11, 12,  5, 12, 14,  8, 11, 14, 12, 14]), array([1.        , 0.6425057 , 0.29465205, 0.61082576, 0.1076844 ,\n",
       "         0.3594496 , 0.79612633, 0.70443602, 0.24465772, 0.34230705,\n",
       "         0.50457996, 0.11921612, 0.9465594 , 0.99729354, 0.79341524,\n",
       "         0.42907092])),\n",
       " (1, 3): (array([0, 0, 0, 2, 2, 2, 7, 4, 7, 8]),\n",
       "  array([1.        , 0.77425354, 0.85899251, 0.70413045, 0.64992802,\n",
       "         0.58178293, 0.08716695, 0.26646941, 0.88970499, 0.33458999])),\n",
       " (3,\n",
       "  1): (array([ 0,  0,  5,  1, 11,  3, 11, 12,  5, 12, 14,  8, 11, 14, 12, 14]), array([1.        , 0.6425057 , 0.29465205, 0.61082576, 0.1076844 ,\n",
       "         0.3594496 , 0.79612633, 0.70443602, 0.24465772, 0.34230705,\n",
       "         0.50457996, 0.11921612, 0.9465594 , 0.99729354, 0.79341524,\n",
       "         0.42907092])),\n",
       " (1, 2): (array([0, 0, 0, 2, 2, 2, 2, 8, 4]),\n",
       "  array([1.        , 0.61021741, 0.97240759, 0.92994828, 0.88080492,\n",
       "         0.63998927, 0.21657295, 0.50632157, 0.52746796])),\n",
       " (2,\n",
       "  1): (array([ 0,  0,  5,  1, 11,  3, 11, 12,  5, 12, 14,  8, 11, 14, 12, 14]), array([1.        , 0.6425057 , 0.29465205, 0.61082576, 0.1076844 ,\n",
       "         0.3594496 , 0.79612633, 0.70443602, 0.24465772, 0.34230705,\n",
       "         0.50457996, 0.11921612, 0.9465594 , 0.99729354, 0.79341524,\n",
       "         0.42907092])),\n",
       " (32,\n",
       "  34): (array([ 0,  2,  0,  2,  2,  2,  4,  4,  4,  4,  9,  9,  9,  9, 13, 13, 15]), array([1.        , 0.50317695, 0.52213764, 0.42583939, 0.96823374,\n",
       "         0.64175385, 0.94364997, 0.62087325, 0.89267126, 0.88522707,\n",
       "         0.53956344, 0.49302343, 0.84023755, 0.99270424, 0.70652501,\n",
       "         0.98528567, 0.88464529])),\n",
       " (34, 32): (array([2, 5, 0, 5, 5, 2]),\n",
       "  array([0.85558317, 0.3825026 , 1.        , 0.61865947, 0.37842106,\n",
       "         0.42721905])),\n",
       " (32, 33): (array([ 3,  5,  5,  0,  3,  4,  5,  5,  5,  5, 11,  9]),\n",
       "  array([0.32215294, 0.10079658, 0.7265275 , 1.        , 0.71799757,\n",
       "         0.61002131, 0.61150199, 0.74804694, 0.91466975, 0.99388093,\n",
       "         0.24206759, 0.29484809])),\n",
       " (33, 32): (array([2, 5, 0, 5, 5, 2]),\n",
       "  array([0.85558317, 0.3825026 , 1.        , 0.61865947, 0.37842106,\n",
       "         0.42721905])),\n",
       " (32, 29): (array([0, 2, 0]), array([1.        , 0.41038177, 0.44730304])),\n",
       " (29, 32): (array([2, 5, 0, 5, 5, 2]),\n",
       "  array([0.85558317, 0.3825026 , 1.        , 0.61865947, 0.37842106,\n",
       "         0.42721905])),\n",
       " (32, 26): (array([2, 2, 0]), array([0.80089898, 0.99395384, 1.        ])),\n",
       " (26, 32): (array([2, 5, 0, 5, 5, 2]),\n",
       "  array([0.85558317, 0.3825026 , 1.        , 0.61865947, 0.37842106,\n",
       "         0.42721905])),\n",
       " (32, 25): (array([1, 0, 1]), array([0.79510374, 1.        , 0.21473941])),\n",
       " (25, 32): (array([2, 5, 0, 5, 5, 2]),\n",
       "  array([0.85558317, 0.3825026 , 1.        , 0.61865947, 0.37842106,\n",
       "         0.42721905])),\n",
       " (22, 2): (array([0, 0, 0, 2, 2, 2, 2, 8, 4]),\n",
       "  array([1.        , 0.61021741, 0.97240759, 0.92994828, 0.88080492,\n",
       "         0.63998927, 0.21657295, 0.50632157, 0.52746796])),\n",
       " (2, 22): (array([0, 0]), array([1.        , 0.41316383])),\n",
       " (20,\n",
       "  34): (array([ 0,  2,  0,  2,  2,  2,  4,  4,  4,  4,  9,  9,  9,  9, 13, 13, 15]), array([1.        , 0.50317695, 0.52213764, 0.42583939, 0.96823374,\n",
       "         0.64175385, 0.94364997, 0.62087325, 0.89267126, 0.88522707,\n",
       "         0.53956344, 0.49302343, 0.84023755, 0.99270424, 0.70652501,\n",
       "         0.98528567, 0.88464529])),\n",
       " (34, 20): (array([0, 2, 0]), array([1.        , 0.29843255, 0.56513269])),\n",
       " (20, 2): (array([0, 0, 0, 2, 2, 2, 2, 8, 4]),\n",
       "  array([1.        , 0.61021741, 0.97240759, 0.92994828, 0.88080492,\n",
       "         0.63998927, 0.21657295, 0.50632157, 0.52746796])),\n",
       " (2, 20): (array([0, 2, 0]), array([1.        , 0.29843255, 0.56513269])),\n",
       " (18, 2): (array([0, 0, 0, 2, 2, 2, 2, 8, 4]),\n",
       "  array([1.        , 0.61021741, 0.97240759, 0.92994828, 0.88080492,\n",
       "         0.63998927, 0.21657295, 0.50632157, 0.52746796])),\n",
       " (2, 18): (array([0, 0]), array([1.       , 0.4508068])),\n",
       " (14,\n",
       "  34): (array([ 0,  2,  0,  2,  2,  2,  4,  4,  4,  4,  9,  9,  9,  9, 13, 13, 15]), array([1.        , 0.50317695, 0.52213764, 0.42583939, 0.96823374,\n",
       "         0.64175385, 0.94364997, 0.62087325, 0.89267126, 0.88522707,\n",
       "         0.53956344, 0.49302343, 0.84023755, 0.99270424, 0.70652501,\n",
       "         0.98528567, 0.88464529])),\n",
       " (34, 14): (array([0, 0, 4, 4, 1]),\n",
       "  array([1.        , 0.7715804 , 0.06370072, 0.66173259, 0.51671535])),\n",
       " (14, 4): (array([1, 0, 1, 2, 2, 3]),\n",
       "  array([0.27433866, 1.        , 0.67015371, 0.74884046, 0.56972125,\n",
       "         0.63638838])),\n",
       " (4, 14): (array([0, 0, 4, 4, 1]),\n",
       "  array([1.        , 0.7715804 , 0.06370072, 0.66173259, 0.51671535])),\n",
       " (14, 3): (array([0, 0, 0, 2, 2, 2, 7, 4, 7, 8]),\n",
       "  array([1.        , 0.77425354, 0.85899251, 0.70413045, 0.64992802,\n",
       "         0.58178293, 0.08716695, 0.26646941, 0.88970499, 0.33458999])),\n",
       " (3, 14): (array([0, 0, 4, 4, 1]),\n",
       "  array([1.        , 0.7715804 , 0.06370072, 0.66173259, 0.51671535])),\n",
       " (14, 2): (array([0, 0, 0, 2, 2, 2, 2, 8, 4]),\n",
       "  array([1.        , 0.61021741, 0.97240759, 0.92994828, 0.88080492,\n",
       "         0.63998927, 0.21657295, 0.50632157, 0.52746796])),\n",
       " (2, 14): (array([0, 0, 4, 4, 1]),\n",
       "  array([1.        , 0.7715804 , 0.06370072, 0.66173259, 0.51671535])),\n",
       " (13, 4): (array([1, 0, 1, 2, 2, 3]),\n",
       "  array([0.27433866, 1.        , 0.67015371, 0.74884046, 0.56972125,\n",
       "         0.63638838])),\n",
       " (4, 13): (array([1, 0]), array([0.90387139, 1.        ])),\n",
       " (11, 6): (array([3, 3, 3, 0]),\n",
       "  array([0.28142581, 0.53680563, 0.79568231, 1.        ])),\n",
       " (6, 11): (array([0, 0, 0]), array([1.        , 0.62556891, 0.50557123])),\n",
       " (11, 5): (array([0, 0, 1]), array([1.        , 0.71697863, 0.38624903])),\n",
       " (5, 11): (array([0, 0, 0]), array([1.        , 0.62556891, 0.50557123])),\n",
       " (9,\n",
       "  34): (array([ 0,  2,  0,  2,  2,  2,  4,  4,  4,  4,  9,  9,  9,  9, 13, 13, 15]), array([1.        , 0.50317695, 0.52213764, 0.42583939, 0.96823374,\n",
       "         0.64175385, 0.94364997, 0.62087325, 0.89267126, 0.88522707,\n",
       "         0.53956344, 0.49302343, 0.84023755, 0.99270424, 0.70652501,\n",
       "         0.98528567, 0.88464529])),\n",
       " (34, 9): (array([1, 0, 3, 1]),\n",
       "  array([0.87874095, 1.        , 0.09857586, 0.81857191])),\n",
       " (9, 33): (array([ 3,  5,  5,  0,  3,  4,  5,  5,  5,  5, 11,  9]),\n",
       "  array([0.32215294, 0.10079658, 0.7265275 , 1.        , 0.71799757,\n",
       "         0.61002131, 0.61150199, 0.74804694, 0.91466975, 0.99388093,\n",
       "         0.24206759, 0.29484809])),\n",
       " (33, 9): (array([1, 0, 3, 1]),\n",
       "  array([0.87874095, 1.        , 0.09857586, 0.81857191])),\n",
       " (9, 3): (array([0, 0, 0, 2, 2, 2, 7, 4, 7, 8]),\n",
       "  array([1.        , 0.77425354, 0.85899251, 0.70413045, 0.64992802,\n",
       "         0.58178293, 0.08716695, 0.26646941, 0.88970499, 0.33458999])),\n",
       " (3, 9): (array([1, 0, 3, 1]),\n",
       "  array([0.87874095, 1.        , 0.09857586, 0.81857191])),\n",
       " (8, 4): (array([1, 0, 1, 2, 2, 3]),\n",
       "  array([0.27433866, 1.        , 0.67015371, 0.74884046, 0.56972125,\n",
       "         0.63638838])),\n",
       " (4, 8): (array([3, 0, 3, 1]),\n",
       "  array([0.93302007, 1.        , 0.62289777, 0.95619099])),\n",
       " (8, 3): (array([0, 0, 0, 2, 2, 2, 7, 4, 7, 8]),\n",
       "  array([1.        , 0.77425354, 0.85899251, 0.70413045, 0.64992802,\n",
       "         0.58178293, 0.08716695, 0.26646941, 0.88970499, 0.33458999])),\n",
       " (3, 8): (array([3, 0, 3, 1]),\n",
       "  array([0.93302007, 1.        , 0.62289777, 0.95619099])),\n",
       " (8, 2): (array([0, 0, 0, 2, 2, 2, 2, 8, 4]),\n",
       "  array([1.        , 0.61021741, 0.97240759, 0.92994828, 0.88080492,\n",
       "         0.63998927, 0.21657295, 0.50632157, 0.52746796])),\n",
       " (2, 8): (array([3, 0, 3, 1]),\n",
       "  array([0.93302007, 1.        , 0.62289777, 0.95619099])),\n",
       " (7, 17): (array([0, 0]), array([1.        , 0.98739872])),\n",
       " (17, 7): (array([0, 0, 1, 1]),\n",
       "  array([1.        , 0.27218395, 0.19498387, 0.84512675])),\n",
       " (7, 6): (array([3, 3, 3, 0]),\n",
       "  array([0.28142581, 0.53680563, 0.79568231, 1.        ])),\n",
       " (6, 7): (array([0, 0, 1, 1]),\n",
       "  array([1.        , 0.27218395, 0.19498387, 0.84512675])),\n",
       " (7, 5): (array([0, 0, 1]), array([1.        , 0.71697863, 0.38624903])),\n",
       " (5, 7): (array([0, 0, 1, 1]),\n",
       "  array([1.        , 0.27218395, 0.19498387, 0.84512675])),\n",
       " (6, 17): (array([0, 0]), array([1.        , 0.98739872])),\n",
       " (17, 6): (array([3, 3, 3, 0]),\n",
       "  array([0.28142581, 0.53680563, 0.79568231, 1.        ])),\n",
       " (4, 3): (array([0, 0, 0, 2, 2, 2, 7, 4, 7, 8]),\n",
       "  array([1.        , 0.77425354, 0.85899251, 0.70413045, 0.64992802,\n",
       "         0.58178293, 0.08716695, 0.26646941, 0.88970499, 0.33458999])),\n",
       " (3, 4): (array([1, 0, 1, 2, 2, 3]),\n",
       "  array([0.27433866, 1.        , 0.67015371, 0.74884046, 0.56972125,\n",
       "         0.63638838])),\n",
       " (4, 2): (array([0, 0, 0, 2, 2, 2, 2, 8, 4]),\n",
       "  array([1.        , 0.61021741, 0.97240759, 0.92994828, 0.88080492,\n",
       "         0.63998927, 0.21657295, 0.50632157, 0.52746796])),\n",
       " (2, 4): (array([1, 0, 1, 2, 2, 3]),\n",
       "  array([0.27433866, 1.        , 0.67015371, 0.74884046, 0.56972125,\n",
       "         0.63638838])),\n",
       " (3, 10): (array([1, 0]), array([0.96664876, 1.        ])),\n",
       " (10, 3): (array([0, 0, 0, 2, 2, 2, 7, 4, 7, 8]),\n",
       "  array([1.        , 0.77425354, 0.85899251, 0.70413045, 0.64992802,\n",
       "         0.58178293, 0.08716695, 0.26646941, 0.88970499, 0.33458999])),\n",
       " (3, 33): (array([ 3,  5,  5,  0,  3,  4,  5,  5,  5,  5, 11,  9]),\n",
       "  array([0.32215294, 0.10079658, 0.7265275 , 1.        , 0.71799757,\n",
       "         0.61002131, 0.61150199, 0.74804694, 0.91466975, 0.99388093,\n",
       "         0.24206759, 0.29484809])),\n",
       " (33, 3): (array([0, 0, 0, 2, 2, 2, 7, 4, 7, 8]),\n",
       "  array([1.        , 0.77425354, 0.85899251, 0.70413045, 0.64992802,\n",
       "         0.58178293, 0.08716695, 0.26646941, 0.88970499, 0.33458999])),\n",
       " (3, 29): (array([0, 2, 0]), array([1.        , 0.41038177, 0.44730304])),\n",
       " (29, 3): (array([0, 0, 0, 2, 2, 2, 7, 4, 7, 8]),\n",
       "  array([1.        , 0.77425354, 0.85899251, 0.70413045, 0.64992802,\n",
       "         0.58178293, 0.08716695, 0.26646941, 0.88970499, 0.33458999])),\n",
       " (3, 28): (array([0, 2, 0, 2]),\n",
       "  array([1.        , 0.4684117 , 0.92943776, 0.50587685])),\n",
       " (28, 3): (array([0, 0, 0, 2, 2, 2, 7, 4, 7, 8]),\n",
       "  array([1.        , 0.77425354, 0.85899251, 0.70413045, 0.64992802,\n",
       "         0.58178293, 0.08716695, 0.26646941, 0.88970499, 0.33458999])),\n",
       " (3, 2): (array([0, 0, 0, 2, 2, 2, 2, 8, 4]),\n",
       "  array([1.        , 0.61021741, 0.97240759, 0.92994828, 0.88080492,\n",
       "         0.63998927, 0.21657295, 0.50632157, 0.52746796])),\n",
       " (2, 3): (array([0, 0, 0, 2, 2, 2, 7, 4, 7, 8]),\n",
       "  array([1.        , 0.77425354, 0.85899251, 0.70413045, 0.64992802,\n",
       "         0.58178293, 0.08716695, 0.26646941, 0.88970499, 0.33458999])),\n",
       " (2, 31): (array([1, 0, 1]), array([0.98815335, 1.        , 0.66601618])),\n",
       " (31, 2): (array([0, 0, 0, 2, 2, 2, 2, 8, 4]),\n",
       "  array([1.        , 0.61021741, 0.97240759, 0.92994828, 0.88080492,\n",
       "         0.63998927, 0.21657295, 0.50632157, 0.52746796])),\n",
       " (31,\n",
       "  34): (array([ 0,  2,  0,  2,  2,  2,  4,  4,  4,  4,  9,  9,  9,  9, 13, 13, 15]), array([1.        , 0.50317695, 0.52213764, 0.42583939, 0.96823374,\n",
       "         0.64175385, 0.94364997, 0.62087325, 0.89267126, 0.88522707,\n",
       "         0.53956344, 0.49302343, 0.84023755, 0.99270424, 0.70652501,\n",
       "         0.98528567, 0.88464529])),\n",
       " (34, 31): (array([1, 0, 1]), array([0.98815335, 1.        , 0.66601618])),\n",
       " (31, 33): (array([ 3,  5,  5,  0,  3,  4,  5,  5,  5,  5, 11,  9]),\n",
       "  array([0.32215294, 0.10079658, 0.7265275 , 1.        , 0.71799757,\n",
       "         0.61002131, 0.61150199, 0.74804694, 0.91466975, 0.99388093,\n",
       "         0.24206759, 0.29484809])),\n",
       " (33, 31): (array([1, 0, 1]), array([0.98815335, 1.        , 0.66601618])),\n",
       " (10,\n",
       "  34): (array([ 0,  2,  0,  2,  2,  2,  4,  4,  4,  4,  9,  9,  9,  9, 13, 13, 15]), array([1.        , 0.50317695, 0.52213764, 0.42583939, 0.96823374,\n",
       "         0.64175385, 0.94364997, 0.62087325, 0.89267126, 0.88522707,\n",
       "         0.53956344, 0.49302343, 0.84023755, 0.99270424, 0.70652501,\n",
       "         0.98528567, 0.88464529])),\n",
       " (34, 10): (array([1, 0]), array([0.96664876, 1.        ])),\n",
       " (33,\n",
       "  34): (array([ 0,  2,  0,  2,  2,  2,  4,  4,  4,  4,  9,  9,  9,  9, 13, 13, 15]), array([1.        , 0.50317695, 0.52213764, 0.42583939, 0.96823374,\n",
       "         0.64175385, 0.94364997, 0.62087325, 0.89267126, 0.88522707,\n",
       "         0.53956344, 0.49302343, 0.84023755, 0.99270424, 0.70652501,\n",
       "         0.98528567, 0.88464529])),\n",
       " (34, 33): (array([ 3,  5,  5,  0,  3,  4,  5,  5,  5,  5, 11,  9]),\n",
       "  array([0.32215294, 0.10079658, 0.7265275 , 1.        , 0.71799757,\n",
       "         0.61002131, 0.61150199, 0.74804694, 0.91466975, 0.99388093,\n",
       "         0.24206759, 0.29484809])),\n",
       " (33, 15): (array([0, 0]), array([1.        , 0.82181707])),\n",
       " (15, 33): (array([ 3,  5,  5,  0,  3,  4,  5,  5,  5,  5, 11,  9]),\n",
       "  array([0.32215294, 0.10079658, 0.7265275 , 1.        , 0.71799757,\n",
       "         0.61002131, 0.61150199, 0.74804694, 0.91466975, 0.99388093,\n",
       "         0.24206759, 0.29484809])),\n",
       " (33, 16): (array([0, 0]), array([1.        , 0.99357163])),\n",
       " (16, 33): (array([ 3,  5,  5,  0,  3,  4,  5,  5,  5,  5, 11,  9]),\n",
       "  array([0.32215294, 0.10079658, 0.7265275 , 1.        , 0.71799757,\n",
       "         0.61002131, 0.61150199, 0.74804694, 0.91466975, 0.99388093,\n",
       "         0.24206759, 0.29484809])),\n",
       " (33, 19): (array([0, 0]), array([1.        , 0.81607589])),\n",
       " (19, 33): (array([ 3,  5,  5,  0,  3,  4,  5,  5,  5,  5, 11,  9]),\n",
       "  array([0.32215294, 0.10079658, 0.7265275 , 1.        , 0.71799757,\n",
       "         0.61002131, 0.61150199, 0.74804694, 0.91466975, 0.99388093,\n",
       "         0.24206759, 0.29484809])),\n",
       " (33, 21): (array([0, 0]), array([1.       , 0.4542075])),\n",
       " (21, 33): (array([ 3,  5,  5,  0,  3,  4,  5,  5,  5,  5, 11,  9]),\n",
       "  array([0.32215294, 0.10079658, 0.7265275 , 1.        , 0.71799757,\n",
       "         0.61002131, 0.61150199, 0.74804694, 0.91466975, 0.99388093,\n",
       "         0.24206759, 0.29484809])),\n",
       " (33, 23): (array([1, 0]), array([0.73066032, 1.        ])),\n",
       " (23, 33): (array([ 3,  5,  5,  0,  3,  4,  5,  5,  5,  5, 11,  9]),\n",
       "  array([0.32215294, 0.10079658, 0.7265275 , 1.        , 0.71799757,\n",
       "         0.61002131, 0.61150199, 0.74804694, 0.91466975, 0.99388093,\n",
       "         0.24206759, 0.29484809])),\n",
       " (33, 24): (array([4, 4, 4, 4, 0]),\n",
       "  array([0.82420082, 0.61338458, 0.00408704, 0.84458344, 1.        ])),\n",
       " (24, 33): (array([ 3,  5,  5,  0,  3,  4,  5,  5,  5,  5, 11,  9]),\n",
       "  array([0.32215294, 0.10079658, 0.7265275 , 1.        , 0.71799757,\n",
       "         0.61002131, 0.61150199, 0.74804694, 0.91466975, 0.99388093,\n",
       "         0.24206759, 0.29484809])),\n",
       " (33, 30): (array([3, 3, 0, 2]),\n",
       "  array([0.00444285, 0.97283422, 1.        , 0.87738286])),\n",
       " (30, 33): (array([ 3,  5,  5,  0,  3,  4,  5,  5,  5,  5, 11,  9]),\n",
       "  array([0.32215294, 0.10079658, 0.7265275 , 1.        , 0.71799757,\n",
       "         0.61002131, 0.61150199, 0.74804694, 0.91466975, 0.99388093,\n",
       "         0.24206759, 0.29484809])),\n",
       " (29,\n",
       "  34): (array([ 0,  2,  0,  2,  2,  2,  4,  4,  4,  4,  9,  9,  9,  9, 13, 13, 15]), array([1.        , 0.50317695, 0.52213764, 0.42583939, 0.96823374,\n",
       "         0.64175385, 0.94364997, 0.62087325, 0.89267126, 0.88522707,\n",
       "         0.53956344, 0.49302343, 0.84023755, 0.99270424, 0.70652501,\n",
       "         0.98528567, 0.88464529])),\n",
       " (34, 29): (array([0, 2, 0]), array([1.        , 0.41038177, 0.44730304])),\n",
       " (28,\n",
       "  34): (array([ 0,  2,  0,  2,  2,  2,  4,  4,  4,  4,  9,  9,  9,  9, 13, 13, 15]), array([1.        , 0.50317695, 0.52213764, 0.42583939, 0.96823374,\n",
       "         0.64175385, 0.94364997, 0.62087325, 0.89267126, 0.88522707,\n",
       "         0.53956344, 0.49302343, 0.84023755, 0.99270424, 0.70652501,\n",
       "         0.98528567, 0.88464529])),\n",
       " (34, 28): (array([0, 2, 0, 2]),\n",
       "  array([1.        , 0.4684117 , 0.92943776, 0.50587685])),\n",
       " (28, 24): (array([4, 4, 4, 4, 0]),\n",
       "  array([0.82420082, 0.61338458, 0.00408704, 0.84458344, 1.        ])),\n",
       " (24, 28): (array([0, 2, 0, 2]),\n",
       "  array([1.        , 0.4684117 , 0.92943776, 0.50587685])),\n",
       " (28, 25): (array([1, 0, 1]), array([0.79510374, 1.        , 0.21473941])),\n",
       " (25, 28): (array([0, 2, 0, 2]),\n",
       "  array([1.        , 0.4684117 , 0.92943776, 0.50587685])),\n",
       " (34, 15): (array([0, 0]), array([1.        , 0.82181707])),\n",
       " (15,\n",
       "  34): (array([ 0,  2,  0,  2,  2,  2,  4,  4,  4,  4,  9,  9,  9,  9, 13, 13, 15]), array([1.        , 0.50317695, 0.52213764, 0.42583939, 0.96823374,\n",
       "         0.64175385, 0.94364997, 0.62087325, 0.89267126, 0.88522707,\n",
       "         0.53956344, 0.49302343, 0.84023755, 0.99270424, 0.70652501,\n",
       "         0.98528567, 0.88464529])),\n",
       " (34, 16): (array([0, 0]), array([1.        , 0.99357163])),\n",
       " (16,\n",
       "  34): (array([ 0,  2,  0,  2,  2,  2,  4,  4,  4,  4,  9,  9,  9,  9, 13, 13, 15]), array([1.        , 0.50317695, 0.52213764, 0.42583939, 0.96823374,\n",
       "         0.64175385, 0.94364997, 0.62087325, 0.89267126, 0.88522707,\n",
       "         0.53956344, 0.49302343, 0.84023755, 0.99270424, 0.70652501,\n",
       "         0.98528567, 0.88464529])),\n",
       " (34, 19): (array([0, 0]), array([1.        , 0.81607589])),\n",
       " (19,\n",
       "  34): (array([ 0,  2,  0,  2,  2,  2,  4,  4,  4,  4,  9,  9,  9,  9, 13, 13, 15]), array([1.        , 0.50317695, 0.52213764, 0.42583939, 0.96823374,\n",
       "         0.64175385, 0.94364997, 0.62087325, 0.89267126, 0.88522707,\n",
       "         0.53956344, 0.49302343, 0.84023755, 0.99270424, 0.70652501,\n",
       "         0.98528567, 0.88464529])),\n",
       " (34, 21): (array([0, 0]), array([1.       , 0.4542075])),\n",
       " (21,\n",
       "  34): (array([ 0,  2,  0,  2,  2,  2,  4,  4,  4,  4,  9,  9,  9,  9, 13, 13, 15]), array([1.        , 0.50317695, 0.52213764, 0.42583939, 0.96823374,\n",
       "         0.64175385, 0.94364997, 0.62087325, 0.89267126, 0.88522707,\n",
       "         0.53956344, 0.49302343, 0.84023755, 0.99270424, 0.70652501,\n",
       "         0.98528567, 0.88464529])),\n",
       " (34, 23): (array([1, 0]), array([0.73066032, 1.        ])),\n",
       " (23,\n",
       "  34): (array([ 0,  2,  0,  2,  2,  2,  4,  4,  4,  4,  9,  9,  9,  9, 13, 13, 15]), array([1.        , 0.50317695, 0.52213764, 0.42583939, 0.96823374,\n",
       "         0.64175385, 0.94364997, 0.62087325, 0.89267126, 0.88522707,\n",
       "         0.53956344, 0.49302343, 0.84023755, 0.99270424, 0.70652501,\n",
       "         0.98528567, 0.88464529])),\n",
       " (34, 24): (array([4, 4, 4, 4, 0]),\n",
       "  array([0.82420082, 0.61338458, 0.00408704, 0.84458344, 1.        ])),\n",
       " (24,\n",
       "  34): (array([ 0,  2,  0,  2,  2,  2,  4,  4,  4,  4,  9,  9,  9,  9, 13, 13, 15]), array([1.        , 0.50317695, 0.52213764, 0.42583939, 0.96823374,\n",
       "         0.64175385, 0.94364997, 0.62087325, 0.89267126, 0.88522707,\n",
       "         0.53956344, 0.49302343, 0.84023755, 0.99270424, 0.70652501,\n",
       "         0.98528567, 0.88464529])),\n",
       " (34, 30): (array([3, 3, 0, 2]),\n",
       "  array([0.00444285, 0.97283422, 1.        , 0.87738286])),\n",
       " (30,\n",
       "  34): (array([ 0,  2,  0,  2,  2,  2,  4,  4,  4,  4,  9,  9,  9,  9, 13, 13, 15]), array([1.        , 0.50317695, 0.52213764, 0.42583939, 0.96823374,\n",
       "         0.64175385, 0.94364997, 0.62087325, 0.89267126, 0.88522707,\n",
       "         0.53956344, 0.49302343, 0.84023755, 0.99270424, 0.70652501,\n",
       "         0.98528567, 0.88464529])),\n",
       " (34, 27): (array([0, 0]), array([1.        , 0.89508987])),\n",
       " (27,\n",
       "  34): (array([ 0,  2,  0,  2,  2,  2,  4,  4,  4,  4,  9,  9,  9,  9, 13, 13, 15]), array([1.        , 0.50317695, 0.52213764, 0.42583939, 0.96823374,\n",
       "         0.64175385, 0.94364997, 0.62087325, 0.89267126, 0.88522707,\n",
       "         0.53956344, 0.49302343, 0.84023755, 0.99270424, 0.70652501,\n",
       "         0.98528567, 0.88464529])),\n",
       " (24, 30): (array([3, 3, 0, 2]),\n",
       "  array([0.00444285, 0.97283422, 1.        , 0.87738286])),\n",
       " (30, 24): (array([4, 4, 4, 4, 0]),\n",
       "  array([0.82420082, 0.61338458, 0.00408704, 0.84458344, 1.        ])),\n",
       " (24, 26): (array([2, 2, 0]), array([0.80089898, 0.99395384, 1.        ])),\n",
       " (26, 24): (array([4, 4, 4, 4, 0]),\n",
       "  array([0.82420082, 0.61338458, 0.00408704, 0.84458344, 1.        ])),\n",
       " (30, 27): (array([0, 0]), array([1.        , 0.89508987])),\n",
       " (27, 30): (array([3, 3, 0, 2]),\n",
       "  array([0.00444285, 0.97283422, 1.        , 0.87738286])),\n",
       " (26, 25): (array([1, 0, 1]), array([0.79510374, 1.        , 0.21473941])),\n",
       " (25, 26): (array([2, 2, 0]), array([0.80089898, 0.99395384, 1.        ]))}"
      ]
     },
     "execution_count": 28,
     "metadata": {},
     "output_type": "execute_result"
    }
   ],
   "source": [
    "# 二阶随机游走（考虑 p、q 值）\n",
    "alias_edges"
   ]
  },
  {
   "cell_type": "markdown",
   "id": "5b10f0cf",
   "metadata": {},
   "source": [
    "## 4. 随机游走"
   ]
  },
  {
   "cell_type": "markdown",
   "id": "a9394263",
   "metadata": {},
   "source": [
    "### 生成一条随机游走序列"
   ]
  },
  {
   "cell_type": "code",
   "execution_count": 29,
   "id": "afb9db1a",
   "metadata": {
    "ExecuteTime": {
     "end_time": "2024-10-09T12:46:38.129261Z",
     "start_time": "2024-10-09T12:46:38.121823Z"
    }
   },
   "outputs": [],
   "source": [
    "def node2vec_walk(walk_length, start_node):\n",
    "    '''\n",
    "    从指定的起始节点，生成一条随机游走序列\n",
    "    '''\n",
    "    # 从上一步计算出的 alias table, 完成 o(1) 的采样\n",
    "    \n",
    "    walk = [start_node]\n",
    "\n",
    "    # 生成序列\n",
    "    while len(walk) < walk_length:\n",
    "        cur = walk[-1]\n",
    "        # 邻居节点排序：为了和 alias table 计算时的顺序对应起来\n",
    "        cur_nbrs = sorted(G.neighbors(cur))\n",
    "        if len(cur_nbrs) > 0:\n",
    "            if len(walk) == 1:\n",
    "                walk.append(cur_nbrs[alias_draw(alias_nodes[cur][0], alias_nodes[cur][1])])\n",
    "            else:\n",
    "                # 看前一个节点prev\n",
    "                prev = walk[-2]\n",
    "                next = cur_nbrs[alias_draw(alias_edges[(prev, cur)][0], \n",
    "                    alias_edges[(prev, cur)][1])]\n",
    "                walk.append(next)\n",
    "        else:\n",
    "            break\n",
    "\n",
    "    return walk"
   ]
  },
  {
   "cell_type": "code",
   "execution_count": 30,
   "id": "a115a189",
   "metadata": {
    "ExecuteTime": {
     "end_time": "2024-10-09T12:46:47.650453Z",
     "start_time": "2024-10-09T12:46:47.642894Z"
    }
   },
   "outputs": [
    {
     "data": {
      "text/plain": [
       "[3, 2, 31, 33, 31, 33, 21]"
      ]
     },
     "execution_count": 30,
     "metadata": {},
     "output_type": "execute_result"
    }
   ],
   "source": [
    "node2vec_walk(7, 3)"
   ]
  },
  {
   "cell_type": "markdown",
   "id": "255da011",
   "metadata": {},
   "source": [
    "### 采样得到所有随机游走序列"
   ]
  },
  {
   "cell_type": "code",
   "execution_count": 35,
   "id": "2699d7f6",
   "metadata": {
    "ExecuteTime": {
     "end_time": "2024-10-09T12:49:53.854970Z",
     "start_time": "2024-10-09T12:49:53.850073Z"
    }
   },
   "outputs": [],
   "source": [
    "def simulate_walks(num_walks, walk_length):\n",
    "    '''\n",
    "    图中每个节点作为起始点，生成 num_walks 个随机游走序列\n",
    "    '''\n",
    "    walks = []\n",
    "    nodes = list(G.nodes())\n",
    "    print('Walk iteration:')\n",
    "    for walk_iter in range(num_walks):\n",
    "        print(str(walk_iter+1), '/', str(num_walks))\n",
    "        # 打乱节点顺序\n",
    "        random.shuffle(nodes)\n",
    "        for node in nodes:\n",
    "            walks.append(node2vec_walk(walk_length=walk_length, start_node=node))\n",
    "\n",
    "    return walks"
   ]
  },
  {
   "cell_type": "code",
   "execution_count": 36,
   "id": "473b8fa3",
   "metadata": {
    "ExecuteTime": {
     "end_time": "2024-10-09T12:49:54.796620Z",
     "start_time": "2024-10-09T12:49:54.779044Z"
    }
   },
   "outputs": [
    {
     "name": "stdout",
     "output_type": "stream",
     "text": [
      "Walk iteration:\n",
      "1 / 3\n",
      "2 / 3\n",
      "3 / 3\n"
     ]
    },
    {
     "data": {
      "text/plain": [
       "[[3, 29, 34, 33, 21, 33, 21],\n",
       " [32, 29, 3, 9, 34, 31, 2],\n",
       " [8, 1, 11, 1, 7, 5, 7],\n",
       " [14, 3, 9, 1, 6, 11, 1],\n",
       " [16, 33, 23, 34, 24, 34, 19],\n",
       " [10, 3, 33, 34, 30, 33, 30],\n",
       " [12, 1, 22, 2, 31, 2, 4],\n",
       " [26, 32, 34, 16, 34, 32, 26],\n",
       " [2, 31, 33, 24, 33, 16, 33],\n",
       " [18, 1, 9, 3, 9, 3, 28],\n",
       " [17, 6, 17, 6, 11, 1, 2],\n",
       " [20, 1, 11, 6, 11, 6, 1],\n",
       " [34, 24, 34, 14, 2, 8, 2],\n",
       " [25, 28, 25, 26, 32, 29, 3],\n",
       " [19, 33, 24, 34, 19, 34, 32],\n",
       " [30, 33, 21, 33, 21, 33, 21],\n",
       " [31, 2, 31, 33, 16, 33, 21],\n",
       " [7, 5, 7, 5, 1, 3, 1],\n",
       " [4, 3, 29, 3, 29, 34, 9],\n",
       " [6, 11, 5, 1, 12, 1, 22],\n",
       " [5, 1, 18, 1, 18, 1, 14],\n",
       " [28, 25, 28, 34, 24, 26, 25],\n",
       " [33, 30, 27, 30, 34, 14, 2],\n",
       " [22, 1, 13, 4, 2, 22, 1],\n",
       " [13, 1, 3, 10, 3, 29, 3],\n",
       " [11, 1, 14, 1, 3, 4, 8],\n",
       " [24, 28, 3, 2, 20, 34, 14],\n",
       " [29, 3, 29, 3, 9, 1, 18],\n",
       " [15, 33, 24, 33, 31, 33, 31],\n",
       " [23, 33, 31, 34, 9, 34, 16],\n",
       " [9, 33, 24, 34, 20, 34, 33],\n",
       " [21, 34, 16, 33, 21, 33, 19],\n",
       " [1, 4, 13, 1, 18, 1, 18],\n",
       " [27, 30, 27, 34, 31, 33, 34],\n",
       " [33, 16, 33, 16, 34, 33, 16],\n",
       " [1, 7, 17, 6, 17, 6, 17],\n",
       " [9, 33, 24, 34, 21, 34, 20],\n",
       " [6, 1, 5, 11, 1, 5, 1],\n",
       " [10, 34, 24, 28, 3, 29, 3],\n",
       " [30, 34, 20, 1, 13, 1, 22],\n",
       " [16, 34, 28, 3, 4, 13, 1],\n",
       " [4, 14, 34, 29, 3, 29, 3],\n",
       " [15, 34, 24, 34, 30, 34, 23],\n",
       " [34, 32, 34, 23, 34, 9, 3],\n",
       " [31, 33, 30, 33, 31, 2, 4],\n",
       " [19, 34, 9, 34, 31, 2, 1],\n",
       " [18, 1, 14, 34, 14, 1, 22],\n",
       " [32, 26, 25, 26, 24, 34, 31],\n",
       " [3, 2, 14, 2, 14, 2, 8],\n",
       " [2, 1, 18, 1, 22, 1, 18],\n",
       " [27, 34, 24, 34, 16, 33, 24],\n",
       " [22, 1, 2, 22, 2, 31, 33],\n",
       " [25, 28, 25, 28, 25, 28, 34],\n",
       " [20, 34, 24, 33, 21, 33, 23],\n",
       " [26, 25, 26, 32, 26, 25, 28],\n",
       " [11, 6, 17, 7, 1, 3, 9],\n",
       " [12, 1, 18, 2, 1, 3, 9],\n",
       " [5, 7, 1, 11, 1, 18, 1],\n",
       " [13, 4, 2, 4, 3, 29, 3],\n",
       " [7, 1, 7, 17, 7, 1, 2],\n",
       " [23, 34, 30, 33, 19, 33, 16],\n",
       " [17, 7, 17, 6, 1, 2, 3],\n",
       " [21, 34, 20, 34, 14, 34, 19],\n",
       " [29, 3, 10, 3, 29, 3, 1],\n",
       " [28, 25, 28, 25, 26, 24, 34],\n",
       " [24, 28, 25, 26, 25, 28, 25],\n",
       " [8, 4, 8, 4, 13, 4, 1],\n",
       " [14, 2, 8, 4, 2, 20, 34],\n",
       " [31, 33, 21, 33, 31, 33, 23],\n",
       " [29, 3, 1, 18, 2, 14, 1],\n",
       " [22, 1, 18, 1, 11, 1, 9],\n",
       " [16, 34, 14, 4, 8, 4, 2],\n",
       " [28, 24, 34, 33, 31, 33, 30],\n",
       " [26, 24, 26, 24, 26, 25, 26],\n",
       " [27, 34, 16, 34, 29, 3, 28],\n",
       " [15, 34, 15, 34, 24, 34, 29],\n",
       " [30, 34, 19, 33, 19, 34, 23],\n",
       " [34, 23, 34, 9, 34, 33, 19],\n",
       " [1, 3, 4, 3, 28, 3, 14],\n",
       " [25, 28, 34, 29, 32, 33, 3],\n",
       " [14, 1, 22, 2, 4, 1, 4],\n",
       " [9, 33, 16, 34, 20, 34, 30],\n",
       " [21, 33, 34, 30, 27, 30, 33],\n",
       " [7, 1, 2, 8, 4, 3, 9],\n",
       " [20, 34, 29, 32, 26, 32, 26],\n",
       " [3, 28, 3, 28, 3, 8, 2],\n",
       " [19, 34, 21, 33, 19, 34, 32],\n",
       " [12, 1, 7, 5, 1, 2, 1],\n",
       " [32, 26, 24, 34, 30, 33, 16],\n",
       " [13, 4, 8, 3, 4, 1, 11],\n",
       " [18, 1, 22, 1, 7, 1, 13],\n",
       " [10, 3, 9, 1, 13, 4, 2],\n",
       " [6, 17, 6, 1, 2, 8, 2],\n",
       " [2, 14, 2, 4, 14, 2, 3],\n",
       " [5, 11, 1, 14, 2, 4, 8],\n",
       " [33, 34, 19, 33, 34, 20, 34],\n",
       " [11, 6, 11, 1, 2, 18, 2],\n",
       " [23, 34, 9, 33, 23, 34, 33],\n",
       " [17, 6, 1, 2, 22, 2, 1],\n",
       " [8, 3, 4, 2, 18, 1, 7],\n",
       " [4, 13, 1, 18, 1, 11, 1],\n",
       " [24, 34, 24, 34, 31, 33, 19]]"
      ]
     },
     "execution_count": 36,
     "metadata": {},
     "output_type": "execute_result"
    }
   ],
   "source": [
    "simulate_walks(3, 7)"
   ]
  },
  {
   "cell_type": "code",
   "execution_count": 37,
   "id": "9ecd9c13",
   "metadata": {
    "ExecuteTime": {
     "end_time": "2024-10-09T12:51:43.346549Z",
     "start_time": "2024-10-09T12:51:43.287298Z"
    }
   },
   "outputs": [
    {
     "name": "stdout",
     "output_type": "stream",
     "text": [
      "num_walks: 10, walk_length: 80\n",
      "Walk iteration:\n",
      "1 / 10\n",
      "2 / 10\n",
      "3 / 10\n",
      "4 / 10\n",
      "5 / 10\n",
      "6 / 10\n",
      "7 / 10\n",
      "8 / 10\n",
      "9 / 10\n",
      "10 / 10\n"
     ]
    }
   ],
   "source": [
    "print(f'num_walks: {args.num_walks}, walk_length: {args.walk_length}')\n",
    "\n",
    "# 生成训练用的随机游走序列\n",
    "walks = simulate_walks(args.num_walks, args.walk_length)"
   ]
  },
  {
   "cell_type": "code",
   "execution_count": 38,
   "id": "0f57b50a",
   "metadata": {
    "ExecuteTime": {
     "end_time": "2024-10-09T12:51:51.480322Z",
     "start_time": "2024-10-09T12:51:51.474470Z"
    }
   },
   "outputs": [
    {
     "data": {
      "text/plain": [
       "340"
      ]
     },
     "execution_count": 38,
     "metadata": {},
     "output_type": "execute_result"
    }
   ],
   "source": [
    "len(walks)"
   ]
  },
  {
   "cell_type": "code",
   "execution_count": 39,
   "id": "05d4ba90",
   "metadata": {
    "ExecuteTime": {
     "end_time": "2024-10-09T12:52:01.005479Z",
     "start_time": "2024-10-09T12:52:00.998561Z"
    },
    "scrolled": true
   },
   "outputs": [
    {
     "data": {
      "text/plain": [
       "[15,\n",
       " 34,\n",
       " 16,\n",
       " 33,\n",
       " 31,\n",
       " 33,\n",
       " 16,\n",
       " 33,\n",
       " 9,\n",
       " 3,\n",
       " 1,\n",
       " 2,\n",
       " 8,\n",
       " 1,\n",
       " 3,\n",
       " 9,\n",
       " 1,\n",
       " 3,\n",
       " 1,\n",
       " 22,\n",
       " 1,\n",
       " 3,\n",
       " 1,\n",
       " 22,\n",
       " 1,\n",
       " 5,\n",
       " 1,\n",
       " 7,\n",
       " 1,\n",
       " 12,\n",
       " 1,\n",
       " 22,\n",
       " 1,\n",
       " 9,\n",
       " 3,\n",
       " 4,\n",
       " 3,\n",
       " 29,\n",
       " 34,\n",
       " 9,\n",
       " 1,\n",
       " 5,\n",
       " 1,\n",
       " 32,\n",
       " 1,\n",
       " 11,\n",
       " 1,\n",
       " 9,\n",
       " 1,\n",
       " 8,\n",
       " 1,\n",
       " 18,\n",
       " 2,\n",
       " 8,\n",
       " 4,\n",
       " 13,\n",
       " 1,\n",
       " 6,\n",
       " 17,\n",
       " 6,\n",
       " 11,\n",
       " 5,\n",
       " 11,\n",
       " 1,\n",
       " 11,\n",
       " 5,\n",
       " 7,\n",
       " 1,\n",
       " 8,\n",
       " 2,\n",
       " 8,\n",
       " 2,\n",
       " 4,\n",
       " 3,\n",
       " 1,\n",
       " 22,\n",
       " 1,\n",
       " 5,\n",
       " 7,\n",
       " 1]"
      ]
     },
     "execution_count": 39,
     "metadata": {},
     "output_type": "execute_result"
    }
   ],
   "source": [
    "walks[0]"
   ]
  },
  {
   "cell_type": "code",
   "execution_count": 40,
   "id": "6dbbb35f",
   "metadata": {
    "ExecuteTime": {
     "end_time": "2024-10-09T12:53:56.991473Z",
     "start_time": "2024-10-09T12:53:56.980478Z"
    }
   },
   "outputs": [],
   "source": [
    "# 将 node 的 int 转为 string\n",
    "walk_str = []\n",
    "for walk in walks:\n",
    "    tmp = []\n",
    "    for node in walk:\n",
    "        tmp.append(str(node))\n",
    "    walk_str.append(tmp)"
   ]
  },
  {
   "cell_type": "code",
   "execution_count": 41,
   "id": "29ea4b11",
   "metadata": {
    "ExecuteTime": {
     "end_time": "2024-10-09T12:54:00.509545Z",
     "start_time": "2024-10-09T12:54:00.503473Z"
    }
   },
   "outputs": [
    {
     "data": {
      "text/plain": [
       "340"
      ]
     },
     "execution_count": 41,
     "metadata": {},
     "output_type": "execute_result"
    }
   ],
   "source": [
    "len(walk_str)"
   ]
  },
  {
   "cell_type": "code",
   "execution_count": 43,
   "id": "51ab36a8",
   "metadata": {
    "ExecuteTime": {
     "end_time": "2024-10-09T12:54:31.426699Z",
     "start_time": "2024-10-09T12:54:31.421315Z"
    },
    "scrolled": true
   },
   "outputs": [
    {
     "data": {
      "text/plain": [
       "['15',\n",
       " '34',\n",
       " '16',\n",
       " '33',\n",
       " '31',\n",
       " '33',\n",
       " '16',\n",
       " '33',\n",
       " '9',\n",
       " '3',\n",
       " '1',\n",
       " '2',\n",
       " '8',\n",
       " '1',\n",
       " '3',\n",
       " '9',\n",
       " '1',\n",
       " '3',\n",
       " '1',\n",
       " '22',\n",
       " '1',\n",
       " '3',\n",
       " '1',\n",
       " '22',\n",
       " '1',\n",
       " '5',\n",
       " '1',\n",
       " '7',\n",
       " '1',\n",
       " '12',\n",
       " '1',\n",
       " '22',\n",
       " '1',\n",
       " '9',\n",
       " '3',\n",
       " '4',\n",
       " '3',\n",
       " '29',\n",
       " '34',\n",
       " '9',\n",
       " '1',\n",
       " '5',\n",
       " '1',\n",
       " '32',\n",
       " '1',\n",
       " '11',\n",
       " '1',\n",
       " '9',\n",
       " '1',\n",
       " '8',\n",
       " '1',\n",
       " '18',\n",
       " '2',\n",
       " '8',\n",
       " '4',\n",
       " '13',\n",
       " '1',\n",
       " '6',\n",
       " '17',\n",
       " '6',\n",
       " '11',\n",
       " '5',\n",
       " '11',\n",
       " '1',\n",
       " '11',\n",
       " '5',\n",
       " '7',\n",
       " '1',\n",
       " '8',\n",
       " '2',\n",
       " '8',\n",
       " '2',\n",
       " '4',\n",
       " '3',\n",
       " '1',\n",
       " '22',\n",
       " '1',\n",
       " '5',\n",
       " '7',\n",
       " '1']"
      ]
     },
     "execution_count": 43,
     "metadata": {},
     "output_type": "execute_result"
    }
   ],
   "source": [
    "walk_str[0]"
   ]
  },
  {
   "cell_type": "markdown",
   "id": "bd1ee19c",
   "metadata": {},
   "source": [
    "## 5. 训练 Node2Vec 模型"
   ]
  },
  {
   "cell_type": "code",
   "execution_count": 45,
   "id": "46abd298",
   "metadata": {
    "ExecuteTime": {
     "end_time": "2024-10-09T12:58:09.868082Z",
     "start_time": "2024-10-09T12:58:09.782722Z"
    }
   },
   "outputs": [],
   "source": [
    "model = Word2Vec(walk_str,\n",
    "                 vector_size=args.dimensions,\n",
    "                 window=args.window_size,\n",
    "                 min_count=0,\n",
    "                 sg=1,\n",
    "                 workers=args.workers\n",
    "                )\n",
    "\n",
    "# 保存 embedding 文件\n",
    "model.wv.save_word2vec_format(args.output)"
   ]
  },
  {
   "cell_type": "markdown",
   "id": "056e8ba7",
   "metadata": {},
   "source": [
    "## 6. 结果分析和可视化"
   ]
  },
  {
   "cell_type": "markdown",
   "id": "7efba691",
   "metadata": {},
   "source": [
    "### 初始查看"
   ]
  },
  {
   "cell_type": "code",
   "execution_count": 48,
   "id": "c8576e51",
   "metadata": {
    "ExecuteTime": {
     "end_time": "2024-10-09T13:00:42.053136Z",
     "start_time": "2024-10-09T13:00:42.044126Z"
    }
   },
   "outputs": [
    {
     "name": "stdout",
     "output_type": "stream",
     "text": [
      "(128,)\n"
     ]
    },
    {
     "data": {
      "text/plain": [
       "array([ 0.16724674, -0.13952175,  0.26621443, -0.22661257, -0.05718328,\n",
       "       -0.17310508, -0.11870964,  0.04631798, -0.1076628 ,  0.04175918,\n",
       "        0.42770767,  0.12852219, -0.16507342, -0.24783315,  0.2707563 ,\n",
       "       -0.24462646,  0.05123994, -0.10009252,  0.16894078, -0.11895169,\n",
       "        0.00327661, -0.09754173,  0.02431392,  0.00711845, -0.15735991,\n",
       "        0.21914059, -0.16657408,  0.12196659,  0.378566  , -0.02026015,\n",
       "       -0.19584452,  0.31168988, -0.11469018,  0.07922155,  0.04667115,\n",
       "       -0.04852546,  0.28723127,  0.07385018,  0.15145211, -0.04647034,\n",
       "        0.23984528,  0.03729026, -0.03148436,  0.0139302 ,  0.20669079,\n",
       "       -0.27808356,  0.07353921, -0.2810704 ,  0.03707767, -0.01525026,\n",
       "        0.25332135, -0.4189023 , -0.06856108,  0.1414477 ,  0.15369041,\n",
       "        0.03134132, -0.05591465,  0.03445198, -0.22075224, -0.00131061,\n",
       "       -0.02656722, -0.15535761,  0.1464479 ,  0.01929879,  0.05530844,\n",
       "       -0.00581094,  0.21394432,  0.05997645,  0.02893656, -0.3929021 ,\n",
       "        0.16740942, -0.02273391, -0.11589919, -0.09220248, -0.01931248,\n",
       "        0.02870705,  0.11495401, -0.35642222,  0.23741329,  0.03385677,\n",
       "       -0.10531492, -0.15360561, -0.14853586,  0.01305337, -0.02506175,\n",
       "        0.07123487,  0.04963458,  0.10419129,  0.20227359,  0.08211485,\n",
       "       -0.12756419,  0.07651935,  0.20875016, -0.00506306,  0.13153347,\n",
       "        0.10643341, -0.03601356, -0.1303738 ,  0.23349452,  0.05386125,\n",
       "       -0.06700618,  0.10301507,  0.18533377, -0.11029611, -0.07466076,\n",
       "       -0.10027432,  0.07532682, -0.0926701 ,  0.00793696,  0.00940464,\n",
       "        0.00058048, -0.01491454,  0.04974431,  0.0439158 , -0.05788365,\n",
       "        0.1217503 , -0.00814301,  0.2221412 ,  0.18591139,  0.13690032,\n",
       "       -0.01922947, -0.1379274 , -0.05057928,  0.01118119, -0.14488757,\n",
       "       -0.13433732, -0.11068579, -0.02208094], dtype=float32)"
      ]
     },
     "execution_count": 48,
     "metadata": {},
     "output_type": "execute_result"
    }
   ],
   "source": [
    "# 查看 Node Embedding\n",
    "print(model.wv.get_vector('17').shape)\n",
    "model.wv.get_vector('17')"
   ]
  },
  {
   "cell_type": "code",
   "execution_count": 49,
   "id": "ebf5d7d0",
   "metadata": {
    "ExecuteTime": {
     "end_time": "2024-10-09T13:01:40.074639Z",
     "start_time": "2024-10-09T13:01:39.980685Z"
    }
   },
   "outputs": [
    {
     "data": {
      "image/png": "[encoded data removed]",
      "text/plain": [
       "<Figure size 640x480 with 1 Axes>"
      ]
     },
     "metadata": {},
     "output_type": "display_data"
    }
   ],
   "source": [
    "# 查找相似节点\n",
    "pos = nx.spring_layout(G, seed=4)\n",
    "nx.draw(G, pos, with_labels=True)\n",
    "plt.show()"
   ]
  },
  {
   "cell_type": "code",
   "execution_count": 51,
   "id": "41bdd7cf",
   "metadata": {
    "ExecuteTime": {
     "end_time": "2024-10-09T13:03:30.285077Z",
     "start_time": "2024-10-09T13:03:30.277607Z"
    }
   },
   "outputs": [
    {
     "name": "stdout",
     "output_type": "stream",
     "text": [
      "0.9614885\n",
      "0.18591955\n",
      "[('28', 0.9733460545539856), ('32', 0.9669627547264099), ('26', 0.9614884853363037), ('29', 0.8846335411071777), ('24', 0.8682335019111633), ('9', 0.8530513644218445), ('3', 0.7944749593734741), ('10', 0.7855256199836731), ('34', 0.7792954444885254), ('16', 0.6859427094459534)]\n"
     ]
    }
   ],
   "source": [
    "# 节点对相似度\n",
    "print(model.wv.similarity('25', '26'))\n",
    "print(model.wv.similarity('17', '25'))\n",
    "\n",
    "# 找到最相似的节点\n",
    "print(model.wv.most_similar('25'))"
   ]
  },
  {
   "cell_type": "code",
   "execution_count": 52,
   "id": "7099c94a",
   "metadata": {
    "ExecuteTime": {
     "end_time": "2024-10-09T13:06:10.552068Z",
     "start_time": "2024-10-09T13:06:10.545292Z"
    }
   },
   "outputs": [
    {
     "data": {
      "text/plain": [
       "0.9614885030987406"
      ]
     },
     "execution_count": 52,
     "metadata": {},
     "output_type": "execute_result"
    }
   ],
   "source": [
    "# 自定义相似性距离度量指标\n",
    "from scipy import spatial\n",
    "\n",
    "def cos_similarity(v1, v2):\n",
    "    # 余弦相似度\n",
    "    return 1 - spatial.distance.cosine(v1, v2)\n",
    "\n",
    "v1 = model.wv.get_vector('25')\n",
    "v2 = model.wv.get_vector('26')\n",
    "\n",
    "cos_similarity(v1, v2)"
   ]
  },
  {
   "cell_type": "markdown",
   "id": "d7e24362",
   "metadata": {},
   "source": [
    "### 聚类分析"
   ]
  },
  {
   "cell_type": "code",
   "execution_count": 57,
   "id": "9064c31d",
   "metadata": {
    "ExecuteTime": {
     "end_time": "2024-10-09T13:12:18.885406Z",
     "start_time": "2024-10-09T13:12:18.875214Z"
    }
   },
   "outputs": [
    {
     "name": "stdout",
     "output_type": "stream",
     "text": [
      "[0 1 0 1 1 1 1 2 0 1 0 0 0 2 0 0 0 0 1 1 0 1 0 1 2 2 0 2 0 1 0 0 1 2]\n"
     ]
    }
   ],
   "source": [
    "# KMeans 聚类\n",
    "from sklearn.cluster import KMeans\n",
    "import numpy as np\n",
    "\n",
    "X = model.wv.vectors\n",
    "cluster_labels = KMeans(n_clusters=3, random_state=9).fit(X).labels_\n",
    "\n",
    "print(cluster_labels)"
   ]
  },
  {
   "cell_type": "code",
   "execution_count": 58,
   "id": "3a4d6e7d",
   "metadata": {
    "ExecuteTime": {
     "end_time": "2024-10-09T13:12:19.312874Z",
     "start_time": "2024-10-09T13:12:19.303170Z"
    }
   },
   "outputs": [
    {
     "name": "stdout",
     "output_type": "stream",
     "text": [
      "[1, 0, 1, 1, 1, 1, 1, 2, 2, 0, 1, 2, 2, 2, 1, 1, 1, 0, 1, 0, 1, 0, 2, 0, 0, 0, 0, 0, 0, 0, 0, 0, 0, 0]\n"
     ]
    }
   ],
   "source": [
    "colors = []\n",
    "for node in list(G.nodes()):\n",
    "    idx = model.wv.key_to_index[str(node)]\n",
    "    colors.append(cluster_labels[idx])\n",
    "\n",
    "print(colors)"
   ]
  },
  {
   "cell_type": "code",
   "execution_count": 59,
   "id": "b4ce20fb",
   "metadata": {
    "ExecuteTime": {
     "end_time": "2024-10-09T13:12:19.864867Z",
     "start_time": "2024-10-09T13:12:19.777419Z"
    }
   },
   "outputs": [
    {
     "data": {
      "image/png": "[encoded data removed]",
      "text/plain": [
       "<Figure size 640x480 with 1 Axes>"
      ]
     },
     "metadata": {},
     "output_type": "display_data"
    }
   ],
   "source": [
    "pos = nx.spring_layout(G, seed=4)\n",
    "nx.draw(G, pos, node_color=colors, with_labels=True)\n",
    "plt.show()"
   ]
  },
  {
   "cell_type": "markdown",
   "id": "4c568908",
   "metadata": {},
   "source": [
    "## 7. 附录*"
   ]
  },
  {
   "cell_type": "markdown",
   "id": "ff2a374e",
   "metadata": {},
   "source": [
    "### node2vec.py"
   ]
  },
  {
   "cell_type": "code",
   "execution_count": 61,
   "id": "ecd5790a",
   "metadata": {
    "ExecuteTime": {
     "end_time": "2024-10-09T13:16:10.536481Z",
     "start_time": "2024-10-09T13:16:10.516090Z"
    }
   },
   "outputs": [],
   "source": [
    "import numpy as np\n",
    "import networkx as nx\n",
    "import random\n",
    "\n",
    "\n",
    "class Graph():\n",
    "    def __init__(self, nx_G, is_directed, p, q):\n",
    "        self.G = nx_G\n",
    "        self.is_directed = is_directed\n",
    "        self.p = p\n",
    "        self.q = q\n",
    "\n",
    "    def node2vec_walk(self, walk_length, start_node):\n",
    "        '''\n",
    "        Simulate a random walk starting from start node.\n",
    "        '''\n",
    "        G = self.G\n",
    "        alias_nodes = self.alias_nodes\n",
    "        alias_edges = self.alias_edges\n",
    "\n",
    "        walk = [start_node]\n",
    "\n",
    "        while len(walk) < walk_length:\n",
    "            cur = walk[-1]\n",
    "            cur_nbrs = sorted(G.neighbors(cur))\n",
    "            if len(cur_nbrs) > 0:\n",
    "                if len(walk) == 1:\n",
    "                    walk.append(cur_nbrs[alias_draw(alias_nodes[cur][0], alias_nodes[cur][1])])\n",
    "                else:\n",
    "                    prev = walk[-2]\n",
    "                    next = cur_nbrs[alias_draw(alias_edges[(prev, cur)][0], \n",
    "                        alias_edges[(prev, cur)][1])]\n",
    "                    walk.append(next)\n",
    "            else:\n",
    "                break\n",
    "\n",
    "        return walk\n",
    "\n",
    "    def simulate_walks(self, num_walks, walk_length):\n",
    "        '''\n",
    "        Repeatedly simulate random walks from each node.\n",
    "        '''\n",
    "        G = self.G\n",
    "        walks = []\n",
    "        nodes = list(G.nodes())\n",
    "        print('Walk iteration:')\n",
    "        for walk_iter in range(num_walks):\n",
    "            print(str(walk_iter+1), '/', str(num_walks))\n",
    "            random.shuffle(nodes)\n",
    "            for node in nodes:\n",
    "                walks.append(self.node2vec_walk(walk_length=walk_length, start_node=node))\n",
    "\n",
    "        return walks\n",
    "\n",
    "    def get_alias_edge(self, src, dst):\n",
    "        '''\n",
    "        Get the alias edge setup lists for a given edge.\n",
    "        '''\n",
    "        G = self.G\n",
    "        p = self.p\n",
    "        q = self.q\n",
    "\n",
    "        unnormalized_probs = []\n",
    "        for dst_nbr in sorted(G.neighbors(dst)):\n",
    "            if dst_nbr == src:\n",
    "                unnormalized_probs.append(G[dst][dst_nbr]['weight']/p)\n",
    "            elif G.has_edge(dst_nbr, src):\n",
    "                unnormalized_probs.append(G[dst][dst_nbr]['weight'])\n",
    "            else:\n",
    "                unnormalized_probs.append(G[dst][dst_nbr]['weight']/q)\n",
    "        norm_const = sum(unnormalized_probs)\n",
    "        normalized_probs =  [float(u_prob)/norm_const for u_prob in unnormalized_probs]\n",
    "\n",
    "        return alias_setup(normalized_probs)\n",
    "\n",
    "    def preprocess_transition_probs(self):\n",
    "        '''\n",
    "        Preprocessing of transition probabilities for guiding the random walks.\n",
    "        '''\n",
    "        G = self.G\n",
    "        is_directed = self.is_directed\n",
    "\n",
    "        alias_nodes = {}\n",
    "        for node in G.nodes():\n",
    "            unnormalized_probs = [G[node][nbr]['weight'] for nbr in sorted(G.neighbors(node))]\n",
    "            norm_const = sum(unnormalized_probs)\n",
    "            normalized_probs =  [float(u_prob)/norm_const for u_prob in unnormalized_probs]\n",
    "            alias_nodes[node] = alias_setup(normalized_probs)\n",
    "\n",
    "        alias_edges = {}\n",
    "        triads = {}\n",
    "\n",
    "        if is_directed:\n",
    "            for edge in G.edges():\n",
    "                alias_edges[edge] = self.get_alias_edge(edge[0], edge[1])\n",
    "        else:\n",
    "            for edge in G.edges():\n",
    "                alias_edges[edge] = self.get_alias_edge(edge[0], edge[1])\n",
    "                alias_edges[(edge[1], edge[0])] = self.get_alias_edge(edge[1], edge[0])\n",
    "\n",
    "        self.alias_nodes = alias_nodes\n",
    "        self.alias_edges = alias_edges\n",
    "\n",
    "        return\n",
    "\n",
    "\n",
    "def alias_setup(probs):\n",
    "    '''\n",
    "    Compute utility lists for non-uniform sampling from discrete distributions.\n",
    "    Refer to https://hips.seas.harvard.edu/blog/2013/03/03/the-alias-method-efficient-sampling-with-many-discrete-outcomes/\n",
    "    for details\n",
    "    '''\n",
    "    K = len(probs)\n",
    "    q = np.zeros(K)\n",
    "    J = np.zeros(K, dtype=np.int)\n",
    "\n",
    "    smaller = []\n",
    "    larger = []\n",
    "    for kk, prob in enumerate(probs):\n",
    "        q[kk] = K*prob\n",
    "        if q[kk] < 1.0:\n",
    "            smaller.append(kk)\n",
    "        else:\n",
    "            larger.append(kk)\n",
    "\n",
    "    while len(smaller) > 0 and len(larger) > 0:\n",
    "        small = smaller.pop()\n",
    "        large = larger.pop()\n",
    "\n",
    "        J[small] = large\n",
    "        q[large] = q[large] + q[small] - 1.0\n",
    "        if q[large] < 1.0:\n",
    "            smaller.append(large)\n",
    "        else:\n",
    "            larger.append(large)\n",
    "\n",
    "    return J, q\n",
    "\n",
    "def alias_draw(J, q):\n",
    "    '''\n",
    "    Draw sample from a non-uniform discrete distribution using alias sampling.\n",
    "    '''\n",
    "    K = len(J)\n",
    "\n",
    "    kk = int(np.floor(np.random.rand()*K))\n",
    "    if np.random.rand() < q[kk]:\n",
    "        return kk\n",
    "    else:\n",
    "        return J[kk]"
   ]
  },
  {
   "cell_type": "markdown",
   "id": "3e1152d9",
   "metadata": {},
   "source": [
    "### main.py"
   ]
  },
  {
   "cell_type": "code",
   "execution_count": null,
   "id": "7ee46a69",
   "metadata": {},
   "outputs": [],
   "source": [
    "'''\n",
    "Reference implementation of node2vec. \n",
    "\n",
    "Author: Aditya Grover\n",
    "\n",
    "For more details, refer to the paper:\n",
    "node2vec: Scalable Feature Learning for Networks\n",
    "Aditya Grover and Jure Leskovec \n",
    "Knowledge Discovery and Data Mining (KDD), 2016\n",
    "'''\n",
    "\n",
    "import argparse\n",
    "import numpy as np\n",
    "import networkx as nx\n",
    "import node2vec\n",
    "from gensim.models import Word2Vec\n",
    "\n",
    "def parse_args():\n",
    "    '''\n",
    "    Parses the node2vec arguments.\n",
    "    '''\n",
    "    parser = argparse.ArgumentParser(description=\"Run node2vec.\")\n",
    "\n",
    "    parser.add_argument('--input', nargs='?', default='graph/karate.edgelist',\n",
    "                        help='Input graph path')\n",
    "\n",
    "    parser.add_argument('--output', nargs='?', default='emb/karate.emb',\n",
    "                        help='Embeddings path')\n",
    "\n",
    "    parser.add_argument('--dimensions', type=int, default=128,\n",
    "                        help='Number of dimensions. Default is 128.')\n",
    "\n",
    "    parser.add_argument('--walk-length', type=int, default=80,\n",
    "                        help='Length of walk per source. Default is 80.')\n",
    "\n",
    "    parser.add_argument('--num-walks', type=int, default=10,\n",
    "                        help='Number of walks per source. Default is 10.')\n",
    "\n",
    "    parser.add_argument('--window-size', type=int, default=10,\n",
    "                        help='Context size for optimization. Default is 10.')\n",
    "\n",
    "    parser.add_argument('--iter', default=1, type=int,\n",
    "                      help='Number of epochs in SGD')\n",
    "\n",
    "    parser.add_argument('--workers', type=int, default=8,\n",
    "                        help='Number of parallel workers. Default is 8.')\n",
    "\n",
    "    parser.add_argument('--p', type=float, default=1,\n",
    "                        help='Return hyperparameter. Default is 1.')\n",
    "\n",
    "    parser.add_argument('--q', type=float, default=1,\n",
    "                        help='Inout hyperparameter. Default is 1.')\n",
    "\n",
    "    parser.add_argument('--weighted', dest='weighted', action='store_true',\n",
    "                        help='Boolean specifying (un)weighted. Default is unweighted.')\n",
    "    parser.add_argument('--unweighted', dest='unweighted', action='store_false')\n",
    "    parser.set_defaults(weighted=False)\n",
    "\n",
    "    parser.add_argument('--directed', dest='directed', action='store_true',\n",
    "                        help='Graph is (un)directed. Default is undirected.')\n",
    "    parser.add_argument('--undirected', dest='undirected', action='store_false')\n",
    "    parser.set_defaults(directed=False)\n",
    "\n",
    "    return parser.parse_args(args=[])\n",
    "\n",
    "def read_graph():\n",
    "    '''\n",
    "    Reads the input network in networkx.\n",
    "    '''\n",
    "    if args.weighted:\n",
    "        G = nx.read_edgelist(args.input, nodetype=int, data=(('weight',float),), create_using=nx.DiGraph())\n",
    "    else:\n",
    "        G = nx.read_edgelist(args.input, nodetype=int, create_using=nx.DiGraph())\n",
    "        for edge in G.edges():\n",
    "            G[edge[0]][edge[1]]['weight'] = 1\n",
    "\n",
    "    if not args.directed:\n",
    "        G = G.to_undirected()\n",
    "\n",
    "    return G\n",
    "\n",
    "def learn_embeddings(walks):\n",
    "    '''\n",
    "    Learn embeddings by optimizing the Skipgram objective using SGD.\n",
    "    '''\n",
    "    walks = [map(str, walk) for walk in walks]\n",
    "    model = Word2Vec(walks, size=args.dimensions, window=args.window_size, min_count=0, sg=1, workers=args.workers, iter=args.iter)\n",
    "    model.save_word2vec_format(args.output)\n",
    "\n",
    "    return\n",
    "\n",
    "def main(args):\n",
    "    '''\n",
    "    Pipeline for representational learning for all nodes in a graph.\n",
    "    '''\n",
    "    nx_G = read_graph()\n",
    "    G = node2vec.Graph(nx_G, args.directed, args.p, args.q)\n",
    "    G.preprocess_transition_probs()\n",
    "    walks = G.simulate_walks(args.num_walks, args.walk_length)\n",
    "    learn_embeddings(walks)\n",
    "\n",
    "if __name__ == \"__main__\":\n",
    "    args = parse_args()\n",
    "    main(args)\n"
   ]
  }
 ],
 "metadata": {
  "kernelspec": {
   "display_name": "Python 3 (ipykernel)",
   "language": "python",
   "name": "python3"
  },
  "language_info": {
   "codemirror_mode": {
    "name": "ipython",
    "version": 3
   },
   "file_extension": ".py",
   "mimetype": "text/x-python",
   "name": "python",
   "nbconvert_exporter": "python",
   "pygments_lexer": "ipython3",
   "version": "3.11.10"
  },
  "toc": {
   "base_numbering": 1,
   "nav_menu": {},
   "number_sections": false,
   "sideBar": true,
   "skip_h1_title": false,
   "title_cell": "Table of Contents",
   "title_sidebar": "Contents",
   "toc_cell": false,
   "toc_position": {
    "height": "calc(100% - 180px)",
    "left": "10px",
    "top": "150px",
    "width": "187px"
   },
   "toc_section_display": true,
   "toc_window_display": true
  },
  "varInspector": {
   "cols": {
    "lenName": 16,
    "lenType": 16,
    "lenVar": 40
   },
   "kernels_config": {
    "python": {
     "delete_cmd_postfix": "",
     "delete_cmd_prefix": "del ",
     "library": "var_list.py",
     "varRefreshCmd": "print(var_dic_list())"
    },
    "r": {
     "delete_cmd_postfix": ") ",
     "delete_cmd_prefix": "rm(",
     "library": "var_list.r",
     "varRefreshCmd": "cat(var_dic_list()) "
    }
   },
   "types_to_exclude": [
    "module",
    "function",
    "builtin_function_or_method",
    "instance",
    "_Feature"
   ],
   "window_display": false
  }
 },
 "nbformat": 4,
 "nbformat_minor": 5
}
